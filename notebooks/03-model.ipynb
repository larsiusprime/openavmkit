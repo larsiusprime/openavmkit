{
 "cells": [
  {
   "cell_type": "code",
   "execution_count": null,
   "id": "initial_id",
   "metadata": {},
   "outputs": [],
   "source": [
    "# Change these\n",
    "\n",
    "locality = \"nc-guilford\"\n",
    "verbose = True\n",
    "clear_checkpoints = False\n",
    "clear_model_results = False"
   ]
  },
  {
   "cell_type": "markdown",
   "id": "024f9ec3-40cb-4bc8-92d2-a5bd04be30a2",
   "metadata": {},
   "source": [
    "# 1. Basic setup"
   ]
  },
  {
   "cell_type": "code",
   "execution_count": null,
   "id": "1635a044-ae12-445e-ad37-13b947ca40b6",
   "metadata": {},
   "outputs": [],
   "source": [
    "from init_notebooks import setup_environment\n",
    "setup_environment()"
   ]
  },
  {
   "cell_type": "code",
   "execution_count": null,
   "id": "aecc0e73-51d4-4355-8113-30ecc087fef6",
   "metadata": {},
   "outputs": [],
   "source": [
    "# import a bunch of stuff\n",
    "import matplotlib.pyplot as plt\n",
    "import numpy as np\n",
    "%matplotlib inline\n",
    "\n",
    "import os\n",
    "import pandas as pd\n",
    "from openavmkit.pipeline import (\n",
    "    NotebookState, \n",
    "    set_locality,\n",
    "    examine_df\n",
    ")\n",
    "from openavmkit.utilities.settings import (\n",
    "    load_settings\n",
    ")\n",
    "from openavmkit.checkpoint import (\n",
    "    from_checkpoint,\n",
    "    read_checkpoint,\n",
    "    write_checkpoint,\n",
    "    delete_checkpoints\n",
    ")\n",
    "from openavmkit.data import (\n",
    "    write_canonical_splits\n",
    ")\n",
    "from openavmkit.benchmark import (\n",
    "    run_models, \n",
    "    MultiModelResults\n",
    ")\n",
    "from openavmkit.utilities.plotting import (\n",
    "    plot_histogram_df\n",
    ")\n",
    "from openavmkit.land import (\n",
    "    run_land_analysis,\n",
    "    finalize_land_values\n",
    ")\n",
    "from openavmkit.ratio_study import (\n",
    "    run_and_write_ratio_study_breakdowns\n",
    ")\n",
    "\n",
    "%matplotlib inline"
   ]
  },
  {
   "cell_type": "code",
   "execution_count": null,
   "id": "bc48ed32-1b6a-469e-bec2-7d7de42f528a",
   "metadata": {},
   "outputs": [],
   "source": [
    "if 'inited' not in globals():\n",
    "    nbs: NotebookState = None\n",
    "    inited = True\n",
    "nbs = set_locality(nbs, locality)\n",
    "settings = load_settings()"
   ]
  },
  {
   "cell_type": "code",
   "execution_count": null,
   "id": "0638e861-e637-486f-8950-24e299d7a60d",
   "metadata": {},
   "outputs": [],
   "source": [
    "if clear_checkpoints:\n",
    "    delete_checkpoints(\"3-model\")"
   ]
  },
  {
   "cell_type": "markdown",
   "id": "fd9d583e-bc6e-470e-8aad-c5ba806c0ef1",
   "metadata": {},
   "source": [
    "# 2. Model"
   ]
  },
  {
   "cell_type": "markdown",
   "id": "347fec55-d97f-4d1e-9b6d-405a1d85379a",
   "metadata": {},
   "source": [
    "We load the cleaned data from the last checkpoint:"
   ]
  },
  {
   "cell_type": "code",
   "execution_count": null,
   "id": "3320b5bb-a269-409a-ae8c-ff92a42fea30",
   "metadata": {},
   "outputs": [],
   "source": [
    "# load the data\n",
    "sup = read_checkpoint(\"2-clean-04-out\")"
   ]
  },
  {
   "cell_type": "markdown",
   "id": "a0ab610f-1a29-4c38-8b73-2bac2d583852",
   "metadata": {},
   "source": [
    "We separate our test set from our training set.  \n",
    "This guarantees we have one durable source of truth for test/train set."
   ]
  },
  {
   "cell_type": "code",
   "execution_count": null,
   "id": "21a2b4be-2b54-4270-bf8f-ce17b3d00ded",
   "metadata": {},
   "outputs": [],
   "source": [
    "write_canonical_splits(\n",
    "    sup[\"sales\"],\n",
    "    load_settings()\n",
    ")"
   ]
  },
  {
   "cell_type": "markdown",
   "id": "0c163ce7-4535-4f9c-8f3c-b5ba6fdbd807",
   "metadata": {},
   "source": [
    "We run all of our modeling code:  \n",
    "- Run individual models\n",
    "- Run preliminary ratio studies & horizontal equity studies\n",
    "- Generate overall utility scores per model\n",
    "- Generate ensembles of the best models\n",
    "- Do this three times:\n",
    "  - main : vacant+improved dataset, predicting full market value\n",
    "  - hedonic : vacant+improved dataset, predicting land value\n",
    "  - vacant : vacant dataset, predicting land value"
   ]
  },
  {
   "cell_type": "code",
   "execution_count": null,
   "id": "d2c669ea-5c1d-40e4-8697-3ff49c90b02b",
   "metadata": {},
   "outputs": [],
   "source": [
    "results = from_checkpoint(\"3-model-00-run-models\", run_models,\n",
    "    {\n",
    "        \"sup\": sup,\n",
    "        \"settings\": load_settings(),\n",
    "        \"use_saved_results\": (not clear_model_results),\n",
    "        \"verbose\": verbose,\n",
    "        \"run_main\": True,\n",
    "        \"run_vacant\": True\n",
    "    }\n",
    ")"
   ]
  },
  {
   "cell_type": "markdown",
   "id": "0e064bae-c7e3-47f1-81d5-1eca67743722",
   "metadata": {},
   "source": [
    "# Generate ratio study reports"
   ]
  },
  {
   "cell_type": "code",
   "execution_count": null,
   "id": "e4a9f31f-3a9e-4f3f-9fcb-17a87f270166",
   "metadata": {},
   "outputs": [],
   "source": [
    "# run ratio study reports\n",
    "run_and_write_ratio_study_breakdowns(load_settings())"
   ]
  },
  {
   "cell_type": "markdown",
   "id": "d29c42cb-d370-49d5-a5a5-1f2fae3fe7f5",
   "metadata": {},
   "source": [
    "# 3. Land Analysis"
   ]
  },
  {
   "cell_type": "code",
   "execution_count": null,
   "id": "9bd03b89-7824-4230-a1ea-6465b89e1cdb",
   "metadata": {},
   "outputs": [],
   "source": [
    "run_land_analysis_sup(sup, load_settings(), verbose)"
   ]
  },
  {
   "cell_type": "code",
   "execution_count": null,
   "id": "0710cef1-f26a-4ca4-996f-19a492e299b8",
   "metadata": {},
   "outputs": [],
   "source": [
    "finalize_land_values_sup(\n",
    "    sup, \n",
    "    load_settings(), \n",
    "    True, \n",
    "    verbose\n",
    ")"
   ]
  },
  {
   "cell_type": "code",
   "execution_count": null,
   "id": "de3b819d-2d28-4885-a5a9-258f2d155dc1",
   "metadata": {},
   "outputs": [],
   "source": []
  }
 ],
 "metadata": {
  "kernelspec": {
   "display_name": "Python 3 (ipykernel)",
   "language": "python",
   "name": "python3"
  },
  "language_info": {
   "codemirror_mode": {
    "name": "ipython",
    "version": 3
   },
   "file_extension": ".py",
   "mimetype": "text/x-python",
   "name": "python",
   "nbconvert_exporter": "python",
   "pygments_lexer": "ipython3",
   "version": "3.10.6"
  }
 },
 "nbformat": 4,
 "nbformat_minor": 5
}
