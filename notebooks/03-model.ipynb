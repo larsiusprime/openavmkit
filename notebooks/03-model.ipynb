{
 "cells": [
  {
   "cell_type": "code",
   "execution_count": null,
   "id": "initial_id",
   "metadata": {},
   "outputs": [],
   "source": [
    "# Change these\n",
    "\n",
    "locality = \"nc-guilford\"\n",
    "verbose = True\n",
    "clear_checkpoints = False\n",
    "clear_model_results = False"
   ]
  },
  {
   "cell_type": "markdown",
   "id": "024f9ec3-40cb-4bc8-92d2-a5bd04be30a2",
   "metadata": {},
   "source": [
    "# 1. Basic setup"
   ]
  },
  {
   "cell_type": "code",
   "execution_count": null,
   "id": "1635a044-ae12-445e-ad37-13b947ca40b6",
   "metadata": {},
   "outputs": [],
   "source": [
    "from init_notebooks import setup_environment\n",
    "setup_environment()"
   ]
  },
  {
   "cell_type": "code",
   "execution_count": null,
   "id": "aecc0e73-51d4-4355-8113-30ecc087fef6",
   "metadata": {},
   "outputs": [],
   "source": [
    "# import a bunch of stuff\n",
    "\n",
    "import os\n",
    "import pandas as pd\n",
    "from openavmkit.pipeline import (\n",
    "    NotebookState, \n",
    "    set_locality,\n",
    "    examine_df\n",
    ")\n",
    "from openavmkit.utilities.settings import (\n",
    "    load_settings\n",
    ")\n",
    "from openavmkit.checkpoint import (\n",
    "    from_checkpoint,\n",
    "    read_checkpoint,\n",
    "    write_checkpoint,\n",
    "    delete_checkpoints\n",
    ")\n",
    "from openavmkit.benchmark import (\n",
    "    run_models, \n",
    "    MultiModelResults\n",
    ")"
   ]
  },
  {
   "cell_type": "code",
   "execution_count": null,
   "id": "bc48ed32-1b6a-469e-bec2-7d7de42f528a",
   "metadata": {},
   "outputs": [],
   "source": [
    "if 'inited' not in globals():\n",
    "    nbs: NotebookState = None\n",
    "    inited = True\n",
    "nbs = set_locality(nbs, locality)\n",
    "settings = load_settings()"
   ]
  },
  {
   "cell_type": "code",
   "execution_count": null,
   "id": "0638e861-e637-486f-8950-24e299d7a60d",
   "metadata": {},
   "outputs": [],
   "source": [
    "if clear_checkpoints:\n",
    "    delete_checkpoints(\"1-predict\")"
   ]
  },
  {
   "cell_type": "code",
   "execution_count": null,
   "id": "3320b5bb-a269-409a-ae8c-ff92a42fea30",
   "metadata": {},
   "outputs": [],
   "source": [
    "# load the data\n",
    "df = read_checkpoint(\"1-predict-03-out\")"
   ]
  },
  {
   "cell_type": "code",
   "execution_count": null,
   "id": "e8686e6e-abcb-4eff-bb63-f94220b87d49",
   "metadata": {},
   "outputs": [],
   "source": [
    "results : MultiModelResults = run_models(\n",
    "    df,\n",
    "    settings,\n",
    "    use_saved_results=(not clear_model_results),\n",
    "    verbose=verbose\n",
    ")"
   ]
  },
  {
   "cell_type": "code",
   "execution_count": null,
   "id": "c281836c-e474-4e13-b1a5-c6eafa6dbab0",
   "metadata": {},
   "outputs": [],
   "source": []
  }
 ],
 "metadata": {
  "kernelspec": {
   "display_name": "Python 3 (ipykernel)",
   "language": "python",
   "name": "python3"
  },
  "language_info": {
   "codemirror_mode": {
    "name": "ipython",
    "version": 3
   },
   "file_extension": ".py",
   "mimetype": "text/x-python",
   "name": "python",
   "nbconvert_exporter": "python",
   "pygments_lexer": "ipython3",
   "version": "3.10.6"
  }
 },
 "nbformat": 4,
 "nbformat_minor": 5
}
