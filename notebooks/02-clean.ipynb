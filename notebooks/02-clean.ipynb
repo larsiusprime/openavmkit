{
 "cells": [
  {
   "cell_type": "markdown",
   "id": "316e268a-0161-41e5-b72f-7a114700a557",
   "metadata": {},
   "source": [
    "# 0. Settings"
   ]
  },
  {
   "cell_type": "code",
   "execution_count": null,
   "id": "f52848e147c86a3c",
   "metadata": {},
   "outputs": [],
   "source": [
    "# Change these\n",
    "\n",
    "locality = \"nc-guilford\"\n",
    "verbose = True\n",
    "clear_checkpoints = False"
   ]
  },
  {
   "cell_type": "markdown",
   "id": "94e2b17504a799e4",
   "metadata": {},
   "source": [
    "# 1. Basic setup"
   ]
  },
  {
   "cell_type": "code",
   "execution_count": null,
   "id": "5091e3d7-3524-4d8a-b74f-e300e63b146f",
   "metadata": {},
   "outputs": [],
   "source": [
    "from init_notebooks import setup_environment\n",
    "setup_environment()"
   ]
  },
  {
   "cell_type": "code",
   "execution_count": null,
   "id": "initial_id",
   "metadata": {},
   "outputs": [],
   "source": [
    "# import a bunch of stuff\n",
    "\n",
    "import os\n",
    "import pandas as pd\n",
    "from openavmkit.data import (\n",
    "    load_data,\n",
    "    enrich_time\n",
    ")    \n",
    "from openavmkit.pipeline import (\n",
    "    NotebookState, \n",
    "    set_locality,\n",
    "    examine_df\n",
    ")\n",
    "from openavmkit.utilities.settings import (\n",
    "    load_settings\n",
    ")\n",
    "from openavmkit.cleaning import (\n",
    "    clean_valid_sales,\n",
    "    fill_unknown_values\n",
    ")\n",
    "from openavmkit.checkpoint import (\n",
    "    from_checkpoint,\n",
    "    write_checkpoint,\n",
    "    delete_checkpoints\n",
    ")\n",
    "from openavmkit.time_adjustment import (\n",
    "    enrich_time_adjustment\n",
    ")\n",
    "from openavmkit.horizontal_equity_study import (\n",
    "    mark_horizontal_equity_clusters_per_model_group\n",
    ")\n",
    "from openavmkit.sales_scrutiny_study import (\n",
    "    run_sales_scrutiny_per_model_group\n",
    ")"
   ]
  },
  {
   "cell_type": "code",
   "execution_count": null,
   "id": "bac878e081b1c36f",
   "metadata": {},
   "outputs": [],
   "source": [
    "if 'inited' not in globals():\n",
    "    nbs: NotebookState = None\n",
    "    inited = True\n",
    "nbs = set_locality(nbs, locality)\n",
    "settings = load_settings()"
   ]
  },
  {
   "cell_type": "code",
   "execution_count": null,
   "id": "6c9e992b-bc8e-4571-b31c-10e787af2e06",
   "metadata": {},
   "outputs": [],
   "source": [
    "if clear_checkpoints:\n",
    "    delete_checkpoints(\"1-predict\")"
   ]
  },
  {
   "cell_type": "markdown",
   "id": "cebf2f4c-16ec-4be4-a5d4-f50b36d5fde6",
   "metadata": {},
   "source": [
    "## 1.1. Load data"
   ]
  },
  {
   "cell_type": "code",
   "execution_count": null,
   "id": "9ac4ae929de30695",
   "metadata": {},
   "outputs": [],
   "source": [
    "# load the data\n",
    "df = load_data(settings)"
   ]
  },
  {
   "cell_type": "markdown",
   "id": "9aa547d3-a859-4f5f-9bdb-35567a1b7764",
   "metadata": {},
   "source": [
    "## 1.2. Fill unknowns in data"
   ]
  },
  {
   "cell_type": "code",
   "execution_count": null,
   "id": "8d7447a0-3258-4ba2-b48d-09bf291f3b62",
   "metadata": {},
   "outputs": [],
   "source": [
    "df = fill_unknown_values(df, settings)"
   ]
  },
  {
   "cell_type": "code",
   "execution_count": null,
   "id": "60035779-ed1f-41b5-adbf-f533fb769c19",
   "metadata": {},
   "outputs": [],
   "source": [
    "examine_df(df, settings)"
   ]
  },
  {
   "cell_type": "markdown",
   "id": "89c2d9c6-bfea-4bbd-ae74-078e54732f5b",
   "metadata": {},
   "source": [
    "# 2. Enrichment"
   ]
  },
  {
   "cell_type": "code",
   "execution_count": null,
   "id": "a9e16813-3e0c-4177-b9b9-1f65e059f6af",
   "metadata": {},
   "outputs": [],
   "source": [
    "df = from_checkpoint(\"2-clean-00-horizontal-equity\", mark_horizontal_equity_clusters_per_model_group,\n",
    "    {\n",
    "        \"df_in\": df,\n",
    "        \"settings\": settings,\n",
    "        \"verbose\": verbose\n",
    "    }\n",
    ")"
   ]
  },
  {
   "cell_type": "code",
   "execution_count": null,
   "id": "15738920-ecc7-4513-9309-c40f80ed85e1",
   "metadata": {},
   "outputs": [],
   "source": [
    "df = clean_valid_sales(df, settings)"
   ]
  },
  {
   "cell_type": "code",
   "execution_count": null,
   "id": "1f229903-7a9a-4ff2-8dd3-5ff7d4b663ef",
   "metadata": {},
   "outputs": [],
   "source": [
    "df = enrich_time(df)"
   ]
  },
  {
   "cell_type": "code",
   "execution_count": null,
   "id": "139bd8e6-38bd-499f-b68b-412febf914dc",
   "metadata": {},
   "outputs": [],
   "source": [
    "df = from_checkpoint(\"2-clean-01-enrich-time-adjustment\", enrich_time_adjustment,\n",
    "    {\n",
    "        \"df_in\": df,\n",
    "        \"settings\": settings,\n",
    "        \"verbose\": verbose\n",
    "    }\n",
    ")"
   ]
  },
  {
   "cell_type": "code",
   "execution_count": null,
   "id": "807422f2-c1ff-4795-93b7-b12cd6bc7fc5",
   "metadata": {},
   "outputs": [],
   "source": [
    "df = from_checkpoint(\"2-clean-02-sales-scrutiny\", run_sales_scrutiny_per_model_group,\n",
    "    {\n",
    "        \"df_in\": df,\n",
    "        \"settings\": settings,\n",
    "        \"verbose\": verbose\n",
    "    }\n",
    ")"
   ]
  },
  {
   "cell_type": "code",
   "execution_count": null,
   "id": "b0e5e1eb-b1bd-4b77-9e49-2a5e8e75c3fc",
   "metadata": {},
   "outputs": [],
   "source": [
    "write_checkpoint(df, \"2-clean-03-out\")"
   ]
  },
  {
   "cell_type": "code",
   "execution_count": null,
   "id": "578a27c9-70b5-4a80-b89b-2071992bbf5a",
   "metadata": {},
   "outputs": [],
   "source": []
  },
  {
   "cell_type": "code",
   "execution_count": null,
   "id": "0c3546a4-1184-4f92-b15a-5322f7d02127",
   "metadata": {},
   "outputs": [],
   "source": []
  }
 ],
 "metadata": {
  "kernelspec": {
   "display_name": "Python 3 (ipykernel)",
   "language": "python",
   "name": "python3"
  },
  "language_info": {
   "codemirror_mode": {
    "name": "ipython",
    "version": 3
   },
   "file_extension": ".py",
   "mimetype": "text/x-python",
   "name": "python",
   "nbconvert_exporter": "python",
   "pygments_lexer": "ipython3",
   "version": "3.10.6"
  }
 },
 "nbformat": 4,
 "nbformat_minor": 5
}
