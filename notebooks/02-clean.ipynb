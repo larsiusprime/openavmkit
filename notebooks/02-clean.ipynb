{
 "cells": [
  {
   "cell_type": "markdown",
   "id": "316e268a-0161-41e5-b72f-7a114700a557",
   "metadata": {},
   "source": [
    "# 0. Settings"
   ]
  },
  {
   "cell_type": "code",
   "execution_count": null,
   "id": "f52848e147c86a3c",
   "metadata": {},
   "outputs": [],
   "source": [
    "# Change these\n",
    "\n",
    "locality = \"nc-guilford\"\n",
    "verbose = True\n",
    "clear_checkpoints = False"
   ]
  },
  {
   "cell_type": "markdown",
   "id": "94e2b17504a799e4",
   "metadata": {},
   "source": [
    "# 1. Basic setup"
   ]
  },
  {
   "cell_type": "code",
   "execution_count": null,
   "id": "5091e3d7-3524-4d8a-b74f-e300e63b146f",
   "metadata": {},
   "outputs": [],
   "source": [
    "from init_notebooks import setup_environment\n",
    "setup_environment()"
   ]
  },
  {
   "cell_type": "code",
   "execution_count": null,
   "id": "initial_id",
   "metadata": {},
   "outputs": [],
   "source": [
    "# import a bunch of stuff\n",
    "\n",
    "import os\n",
    "import pickle\n",
    "import pandas as pd\n",
    "from openavmkit.pipeline import (\n",
    "    NotebookState, \n",
    "    set_locality,\n",
    "    load_settings,\n",
    "    examine_sup,\n",
    "    process_sales\n",
    ")\n",
    "from openavmkit.cleaning import (\n",
    "    sup_fill_unknown_values\n",
    ")\n",
    "from openavmkit.checkpoint import (\n",
    "    from_checkpoint,\n",
    "    delete_checkpoints\n",
    ")\n",
    "from openavmkit.horizontal_equity_study import (\n",
    "    mark_horizontal_equity_clusters_per_model_group\n",
    ")"
   ]
  },
  {
   "cell_type": "code",
   "execution_count": null,
   "id": "bac878e081b1c36f",
   "metadata": {},
   "outputs": [],
   "source": [
    "if 'inited' not in globals():\n",
    "    nbs: NotebookState = None\n",
    "    inited = True\n",
    "nbs = set_locality(nbs, locality)\n",
    "settings = load_settings()"
   ]
  },
  {
   "cell_type": "code",
   "execution_count": null,
   "id": "6c9e992b-bc8e-4571-b31c-10e787af2e06",
   "metadata": {},
   "outputs": [],
   "source": [
    "if clear_checkpoints:\n",
    "    delete_checkpoints(\"2-clean\")"
   ]
  },
  {
   "cell_type": "markdown",
   "id": "cebf2f4c-16ec-4be4-a5d4-f50b36d5fde6",
   "metadata": {},
   "source": [
    "## 1.1. Load data"
   ]
  },
  {
   "cell_type": "code",
   "execution_count": null,
   "id": "9ac4ae929de30695",
   "metadata": {},
   "outputs": [],
   "source": [
    "# load the data\n",
    "with open (f\"out/sales_univ.pickle\", \"rb\") as file:\n",
    "    sales_univ = pickle.load(file)"
   ]
  },
  {
   "cell_type": "markdown",
   "id": "9aa547d3-a859-4f5f-9bdb-35567a1b7764",
   "metadata": {},
   "source": [
    "## 1.2. Fill unknowns in data"
   ]
  },
  {
   "cell_type": "code",
   "execution_count": null,
   "id": "8d7447a0-3258-4ba2-b48d-09bf291f3b62",
   "metadata": {},
   "outputs": [],
   "source": [
    "sales_univ = sup_fill_unknown_values(sales_univ, settings)"
   ]
  },
  {
   "cell_type": "code",
   "execution_count": null,
   "id": "60035779-ed1f-41b5-adbf-f533fb769c19",
   "metadata": {},
   "outputs": [],
   "source": [
    "examine_sup(sales_univ, settings)"
   ]
  },
  {
   "cell_type": "markdown",
   "id": "89c2d9c6-bfea-4bbd-ae74-078e54732f5b",
   "metadata": {},
   "source": [
    "# 2. Enrichment"
   ]
  },
  {
   "cell_type": "code",
   "execution_count": null,
   "id": "a9e16813-3e0c-4177-b9b9-1f65e059f6af",
   "metadata": {},
   "outputs": [],
   "source": [
    "df_universe = sales_univ[\"universe\"]\n",
    "\n",
    "print(f\"BEFORE = {len(df_universe)}\")\n",
    "df_universe = from_checkpoint(\"2-clean-00-horizontal-equity\", mark_horizontal_equity_clusters_per_model_group,\n",
    "    {\n",
    "        \"df_in\": df_universe,\n",
    "        \"settings\": settings,\n",
    "        \"verbose\": verbose\n",
    "    }\n",
    ")\n",
    "print(f\"AFTER = {len(df_universe)}\")\n",
    "\n",
    "sales_univ[\"universe\"] = df_universe"
   ]
  },
  {
   "cell_type": "markdown",
   "id": "67036e5e-468f-4ccd-a784-940d86c0c13a",
   "metadata": {},
   "source": [
    "# Process sales\n",
    "- Selects only valid sales\n",
    "- Adds new fields for time adjusted sales"
   ]
  },
  {
   "cell_type": "code",
   "execution_count": null,
   "id": "139bd8e6-38bd-499f-b68b-412febf914dc",
   "metadata": {},
   "outputs": [],
   "source": [
    "sup = from_checkpoint(\"2-clean-01-process_sales\", process_sales,\n",
    "    {\n",
    "        \"sup\": sales_univ,\n",
    "        \"settings\": settings,\n",
    "        \"verbose\": verbose\n",
    "    }\n",
    ")"
   ]
  },
  {
   "cell_type": "markdown",
   "id": "6c331f62-f35b-47b4-8a2e-19149f95a2c5",
   "metadata": {},
   "source": [
    "# Sales scrutiny\n",
    "- "
   ]
  },
  {
   "cell_type": "code",
   "execution_count": null,
   "id": "807422f2-c1ff-4795-93b7-b12cd6bc7fc5",
   "metadata": {},
   "outputs": [],
   "source": [
    "df_sales = sales_univ[\"sales\"]\n",
    "\n",
    "df = from_checkpoint(\"2-clean-02-sales-scrutiny\", run_sales_scrutiny_per_model_group,\n",
    "    {\n",
    "        \"df_in\": df,\n",
    "        \"settings\": settings,\n",
    "        \"verbose\": verbose\n",
    "    }\n",
    ")\n",
    "\n",
    "sales_univ[\"sales\"] = df_sales"
   ]
  },
  {
   "cell_type": "code",
   "execution_count": null,
   "id": "b0e5e1eb-b1bd-4b77-9e49-2a5e8e75c3fc",
   "metadata": {},
   "outputs": [],
   "source": [
    "write_checkpoint(sales_univ, \"2-clean-03-out\")"
   ]
  },
  {
   "cell_type": "code",
   "execution_count": null,
   "id": "4e1e9fc7-b49e-4156-ac7a-dd5700f8ecd2",
   "metadata": {},
   "outputs": [],
   "source": [
    "# from openavmkit.utilities.settings import get_fields_categorical, get_fields_boolean, get_fields_numeric\n",
    "# from openavmkit.data import boolify_series\n",
    "\n",
    "# gdf = gdf.rename(columns={\"key_primary\":\"key\", \"key_secondary\":\"key2\"})\n",
    "# gdf2 = gdf[~gdf[\"key\"].isin(df[\"key\"])]\n",
    "# gdf2\n",
    "\n",
    "# cols = [col for col in df.columns if col in gdf2]\n",
    "\n",
    "# gdf2 = gdf2[cols]\n",
    "# gdf2\n",
    "\n",
    "# df3 = pd.concat([df, gdf2])\n",
    "# df3\n",
    "\n",
    "# fields_cat = get_fields_categorical(settings, include_boolean=False)\n",
    "# fields_bool = get_fields_boolean(settings)\n",
    "# fields_num = get_fields_numeric(settings, include_boolean=False)\n",
    "\n",
    "# for col in df3.columns:\n",
    "#     if col in fields_cat:\n",
    "#         df3[col] = df3[col].astype(\"string\")\n",
    "#     elif col in fields_bool:\n",
    "#         df3[col] = boolify_series(df3[col])\n",
    "#     elif col in fields_num:\n",
    "#         df3[col] = df3[col].astype(\"Float64\")\n",
    "\n",
    "# df3.loc[df3[\"model_group\"].ne(\"residential_sf\"),\"model_group\"] = None\n",
    "# df3.to_parquet(\"universe_merge.parquet\")"
   ]
  },
  {
   "cell_type": "code",
   "execution_count": null,
   "id": "b1a9c7f5-b6e0-46eb-86a9-97d85617d3fb",
   "metadata": {},
   "outputs": [],
   "source": []
  }
 ],
 "metadata": {
  "kernelspec": {
   "display_name": "Python 3 (ipykernel)",
   "language": "python",
   "name": "python3"
  },
  "language_info": {
   "codemirror_mode": {
    "name": "ipython",
    "version": 3
   },
   "file_extension": ".py",
   "mimetype": "text/x-python",
   "name": "python",
   "nbconvert_exporter": "python",
   "pygments_lexer": "ipython3",
   "version": "3.10.6"
  }
 },
 "nbformat": 4,
 "nbformat_minor": 5
}
