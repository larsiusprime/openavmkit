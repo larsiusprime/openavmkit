{
 "cells": [
  {
   "cell_type": "markdown",
   "id": "316e268a-0161-41e5-b72f-7a114700a557",
   "metadata": {},
   "source": [
    "# 0. Settings"
   ]
  },
  {
   "cell_type": "code",
   "execution_count": null,
   "id": "f52848e147c86a3c",
   "metadata": {},
   "outputs": [],
   "source": [
    "# Change these\n",
    "\n",
    "locality = \"nc-guilford\"\n",
    "verbose = True\n",
    "clear_checkpoints = False"
   ]
  },
  {
   "cell_type": "markdown",
   "id": "94e2b17504a799e4",
   "metadata": {},
   "source": [
    "# 1. Basic setup"
   ]
  },
  {
   "cell_type": "code",
   "execution_count": null,
   "id": "5091e3d7-3524-4d8a-b74f-e300e63b146f",
   "metadata": {},
   "outputs": [],
   "source": [
    "from init_notebooks import setup_environment\n",
    "setup_environment()"
   ]
  },
  {
   "cell_type": "code",
   "execution_count": null,
   "id": "initial_id",
   "metadata": {},
   "outputs": [],
   "source": [
    "# import a bunch of stuff\n",
    "\n",
    "import os\n",
    "import pickle\n",
    "import pandas as pd\n",
    "from openavmkit.pipeline import (\n",
    "    NotebookState, \n",
    "    set_locality,\n",
    "    load_settings,\n",
    "    examine_sup,\n",
    "    process_sales,\n",
    "    mark_ss_ids_per_model_group_sup,\n",
    "    run_sales_scrutiny_per_model_group_sup\n",
    ")\n",
    "from openavmkit.cleaning import (\n",
    "    sup_fill_unknown_values\n",
    ")\n",
    "from openavmkit.checkpoint import (\n",
    "    from_checkpoint,\n",
    "    delete_checkpoints,\n",
    "    write_checkpoint\n",
    ")\n",
    "from openavmkit.horizontal_equity_study import (\n",
    "    mark_horizontal_equity_clusters_per_model_group_sup\n",
    ")"
   ]
  },
  {
   "cell_type": "code",
   "execution_count": null,
   "id": "bac878e081b1c36f",
   "metadata": {},
   "outputs": [],
   "source": [
    "if 'inited' not in globals():\n",
    "    nbs: NotebookState = None\n",
    "    inited = True\n",
    "nbs = set_locality(nbs, locality)\n",
    "settings = load_settings()"
   ]
  },
  {
   "cell_type": "code",
   "execution_count": null,
   "id": "6c9e992b-bc8e-4571-b31c-10e787af2e06",
   "metadata": {},
   "outputs": [],
   "source": [
    "if clear_checkpoints:\n",
    "    delete_checkpoints(\"2-clean\")"
   ]
  },
  {
   "cell_type": "markdown",
   "id": "cebf2f4c-16ec-4be4-a5d4-f50b36d5fde6",
   "metadata": {},
   "source": [
    "## 1.1. Load data"
   ]
  },
  {
   "cell_type": "code",
   "execution_count": null,
   "id": "9ac4ae929de30695",
   "metadata": {},
   "outputs": [],
   "source": [
    "# load the data\n",
    "with open (f\"out/sales_univ.pickle\", \"rb\") as file:\n",
    "    sales_univ = pickle.load(file)"
   ]
  },
  {
   "cell_type": "markdown",
   "id": "9aa547d3-a859-4f5f-9bdb-35567a1b7764",
   "metadata": {},
   "source": [
    "## 1.2. Fill unknowns in data"
   ]
  },
  {
   "cell_type": "code",
   "execution_count": null,
   "id": "b3f6c117-2685-4cb6-970e-9dd21fa3c37c",
   "metadata": {},
   "outputs": [],
   "source": [
    "sales_univ = sup_fill_unknown_values(sales_univ, settings)"
   ]
  },
  {
   "cell_type": "code",
   "execution_count": null,
   "id": "60035779-ed1f-41b5-adbf-f533fb769c19",
   "metadata": {},
   "outputs": [],
   "source": [
    "examine_sup(sales_univ, settings)"
   ]
  },
  {
   "cell_type": "markdown",
   "id": "89c2d9c6-bfea-4bbd-ae74-078e54732f5b",
   "metadata": {},
   "source": [
    "# 2. Enrichment"
   ]
  },
  {
   "cell_type": "code",
   "execution_count": null,
   "id": "a9e16813-3e0c-4177-b9b9-1f65e059f6af",
   "metadata": {},
   "outputs": [],
   "source": [
    "sales_univ = from_checkpoint(\"2-clean-00-horizontal-equity\", mark_horizontal_equity_clusters_per_model_group_sup,\n",
    "    {\n",
    "        \"sup\": sales_univ,\n",
    "        \"settings\": settings,\n",
    "        \"verbose\": verbose\n",
    "    }\n",
    ")"
   ]
  },
  {
   "cell_type": "markdown",
   "id": "67036e5e-468f-4ccd-a784-940d86c0c13a",
   "metadata": {},
   "source": [
    "## 2.1 Process sales\n",
    "- Select only valid sales\n",
    "- Calculate time-adjusted sale prices"
   ]
  },
  {
   "cell_type": "code",
   "execution_count": null,
   "id": "139bd8e6-38bd-499f-b68b-412febf914dc",
   "metadata": {},
   "outputs": [],
   "source": [
    "sales_univ = from_checkpoint(\"2-clean-01-process_sales\", process_sales,\n",
    "    {\n",
    "        \"sup\": sales_univ,\n",
    "        \"settings\": settings,\n",
    "        \"verbose\": verbose\n",
    "    }\n",
    ")"
   ]
  },
  {
   "cell_type": "markdown",
   "id": "6c331f62-f35b-47b4-8a2e-19149f95a2c5",
   "metadata": {},
   "source": [
    "## 2.2 Sales scrutiny\n",
    "- Runs sales validity heuristic over sales clusters\n",
    "- Identifies sales that are anomalously high or low for their local cluster & flags them"
   ]
  },
  {
   "cell_type": "code",
   "execution_count": null,
   "id": "61701bce-36fe-44a6-9ba3-45a08ac14c5e",
   "metadata": {},
   "outputs": [],
   "source": [
    "sales_univ = from_checkpoint(\"2-clean-02-mark-ss_ids\", mark_ss_ids_per_model_group_sup,\n",
    "    {\n",
    "        \"sup\": sales_univ,\n",
    "        \"settings\": settings,\n",
    "        \"verbose\": verbose,\n",
    "    }\n",
    ")"
   ]
  },
  {
   "cell_type": "code",
   "execution_count": null,
   "id": "807422f2-c1ff-4795-93b7-b12cd6bc7fc5",
   "metadata": {},
   "outputs": [],
   "source": [
    "sales_univ = from_checkpoint(\"2-clean-03-sales-scrutiny\", run_sales_scrutiny_per_model_group_sup,\n",
    "    {\n",
    "        \"sup\": sales_univ,\n",
    "        \"settings\": settings,\n",
    "        \"verbose\": verbose\n",
    "    }\n",
    ")"
   ]
  },
  {
   "cell_type": "code",
   "execution_count": null,
   "id": "b0e5e1eb-b1bd-4b77-9e49-2a5e8e75c3fc",
   "metadata": {},
   "outputs": [],
   "source": [
    "write_checkpoint(sales_univ, \"2-clean-04-out\")"
   ]
  },
  {
   "cell_type": "code",
   "execution_count": null,
   "id": "25ee8b5d-57ab-46d2-8a4e-20a8cdd3c0b5",
   "metadata": {},
   "outputs": [],
   "source": []
  },
  {
   "cell_type": "code",
   "execution_count": null,
   "id": "fb8e2efc-1e21-48e9-9ea3-bf8de2aafcbf",
   "metadata": {},
   "outputs": [],
   "source": [
    "pd.set_option('display.max_columns',None)\n",
    "df_univ = sales_univ[\"universe\"]\n",
    "df_univ[pd.isna(df_univ).any(axis=1)]"
   ]
  },
  {
   "cell_type": "code",
   "execution_count": null,
   "id": "f2ec0902-3923-4fd5-8f81-89ae61b48ffa",
   "metadata": {},
   "outputs": [],
   "source": []
  }
 ],
 "metadata": {
  "kernelspec": {
   "display_name": "Python 3 (ipykernel)",
   "language": "python",
   "name": "python3"
  },
  "language_info": {
   "codemirror_mode": {
    "name": "ipython",
    "version": 3
   },
   "file_extension": ".py",
   "mimetype": "text/x-python",
   "name": "python",
   "nbconvert_exporter": "python",
   "pygments_lexer": "ipython3",
   "version": "3.10.6"
  }
 },
 "nbformat": 4,
 "nbformat_minor": 5
}
