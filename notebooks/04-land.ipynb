{
 "cells": [
  {
   "cell_type": "markdown",
   "id": "7da3e2b2-a64c-41fe-8c23-e77bcad7afca",
   "metadata": {},
   "source": [
    "# Land"
   ]
  },
  {
   "cell_type": "code",
   "execution_count": null,
   "id": "initial_id",
   "metadata": {},
   "outputs": [],
   "source": [
    "# Change these as desired\n",
    "\n",
    "# The slug of the locality you are currently working on\n",
    "locality = \"us-nc-guilford\"\n",
    "\n",
    "# Whether to print out a lot of stuff (can help with debugging) or stay mostly quiet\n",
    "verbose = True\n",
    "\n",
    "# Clear previous state for this notebook and start fresh\n",
    "clear_checkpoints = False\n",
    "\n",
    "# Clear cached results for model predictions and start fresh\n",
    "clear_model_results = False"
   ]
  },
  {
   "cell_type": "markdown",
   "id": "669dc42f-42ab-4695-a3b5-24946fb3263e",
   "metadata": {},
   "source": [
    "# 1. Basic Setup"
   ]
  },
  {
   "cell_type": "code",
   "execution_count": null,
   "id": "5153b137-3faa-40ed-9239-182f752733b1",
   "metadata": {},
   "outputs": [],
   "source": [
    "import init_notebooks\n",
    "init_notebooks.setup_environment()"
   ]
  },
  {
   "cell_type": "code",
   "execution_count": null,
   "id": "bfd32d5c-3da0-4dc8-806e-fcbeb9853ee2",
   "metadata": {},
   "outputs": [],
   "source": [
    "# import a bunch of stuff\n",
    "from openavmkit.pipeline import (\n",
    "    NotebookState, \n",
    "    set_locality,\n",
    "    examine_df,\n",
    "    examine_sup,\n",
    "    finalize_land_values_sup,\n",
    "    run_land_analysis_sup,\n",
    "    run_and_write_ratio_study_breakdowns,\n",
    "    run_models,\n",
    "    write_canonical_splits\n",
    ")"
   ]
  },
  {
   "cell_type": "code",
   "execution_count": null,
   "id": "ad806cc2-81b4-418f-b8ab-0d253bee2b97",
   "metadata": {},
   "outputs": [],
   "source": [
    "init_notebook(locality)"
   ]
  },
  {
   "cell_type": "code",
   "execution_count": null,
   "id": "35f9d53d-71a0-4898-94c8-28f5d837fc74",
   "metadata": {},
   "outputs": [],
   "source": [
    "if clear_checkpoints:\n",
    "    delete_checkpoints(\"4-land\")"
   ]
  },
  {
   "cell_type": "markdown",
   "id": "98147703-a0d8-454e-8827-82664c6c8a26",
   "metadata": {},
   "source": [
    "# 2. Run Land Analysis"
   ]
  },
  {
   "cell_type": "code",
   "execution_count": null,
   "id": "d6a0e663-17ca-4a5b-8a6b-ab6cb7f335ea",
   "metadata": {},
   "outputs": [],
   "source": [
    "# load the data\n",
    "sales_univ_pair = read_pickle(\"out/2-clean\")"
   ]
  },
  {
   "cell_type": "code",
   "execution_count": null,
   "id": "18dac6ef-5076-4e58-a9b1-e85493e96f98",
   "metadata": {},
   "outputs": [],
   "source": [
    "run_land_analysis_sup(sup, load_settings(), verbose)"
   ]
  },
  {
   "cell_type": "code",
   "execution_count": null,
   "id": "4b670755-0d07-40af-962c-2b4ac92e8259",
   "metadata": {},
   "outputs": [],
   "source": [
    "finalize_land_values_sup(\n",
    "    sup, \n",
    "    load_settings(), \n",
    "    True, \n",
    "    verbose\n",
    ")"
   ]
  }
 ],
 "metadata": {
  "kernelspec": {
   "display_name": "Python 3 (ipykernel)",
   "language": "python",
   "name": "python3"
  },
  "language_info": {
   "codemirror_mode": {
    "name": "ipython",
    "version": 3
   },
   "file_extension": ".py",
   "mimetype": "text/x-python",
   "name": "python",
   "nbconvert_exporter": "python",
   "pygments_lexer": "ipython3",
   "version": "3.10.6"
  }
 },
 "nbformat": 4,
 "nbformat_minor": 5
}
