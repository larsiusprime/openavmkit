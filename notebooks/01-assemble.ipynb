{
 "cells": [
  {
   "cell_type": "markdown",
   "id": "cb6ff1e3-1786-4b7f-9f8c-89c5f1793495",
   "metadata": {},
   "source": [
    "# 0. Settings"
   ]
  },
  {
   "cell_type": "code",
   "execution_count": null,
   "id": "initial_id",
   "metadata": {},
   "outputs": [],
   "source": [
    "# Change these\n",
    "\n",
    "locality = \"nc-guilford\"\n",
    "verbose = True\n",
    "clear_checkpoints = False"
   ]
  },
  {
   "cell_type": "markdown",
   "id": "7b11d468-1d7d-43eb-81ed-a983c5fb78b7",
   "metadata": {},
   "source": [
    "# 1. Basic setup"
   ]
  },
  {
   "cell_type": "code",
   "execution_count": null,
   "id": "f1414e0d-5738-4713-8b1d-e6d66930b286",
   "metadata": {},
   "outputs": [],
   "source": [
    "from init_notebooks import setup_environment\n",
    "setup_environment()"
   ]
  },
  {
   "cell_type": "code",
   "execution_count": null,
   "id": "e670e4a6-4e2e-4d78-95bd-978a2bd12d98",
   "metadata": {},
   "outputs": [],
   "source": [
    "# import a bunch of stuff\n",
    "import os\n",
    "import pickle\n",
    "import pandas as pd\n",
    "from openavmkit.pipeline import (\n",
    "    NotebookState, \n",
    "    set_locality,\n",
    "    examine_df,\n",
    "    load_dataframes,\n",
    "    load_settings,\n",
    "    process_data,\n",
    "    process_sales\n",
    ")\n",
    "from openavmkit.data import (\n",
    "    sup_tag_model_groups\n",
    ")\n",
    "from openavmkit.checkpoint import (\n",
    "    from_checkpoint,\n",
    "    delete_checkpoints\n",
    ")"
   ]
  },
  {
   "cell_type": "code",
   "execution_count": null,
   "id": "9c38b672-1f29-4e9f-b32c-671810b1c721",
   "metadata": {},
   "outputs": [],
   "source": [
    "if 'inited' not in globals():\n",
    "    nbs: NotebookState = None\n",
    "    inited = True\n",
    "nbs = set_locality(nbs, locality)"
   ]
  },
  {
   "cell_type": "code",
   "execution_count": null,
   "id": "1c05828b-a5bf-420f-8dfc-e1fe86f3afcc",
   "metadata": {},
   "outputs": [],
   "source": [
    "if clear_checkpoints:\n",
    "    delete_checkpoints(\"1-assemble\")"
   ]
  },
  {
   "cell_type": "markdown",
   "id": "38e301d1-0416-4512-8da9-130569a2b1e0",
   "metadata": {},
   "source": [
    "# 2. Load & process data"
   ]
  },
  {
   "cell_type": "code",
   "execution_count": null,
   "id": "79c33b1a-51b1-4e19-a91e-64d4e31e9377",
   "metadata": {},
   "outputs": [],
   "source": [
    "settings = load_settings()"
   ]
  },
  {
   "cell_type": "code",
   "execution_count": null,
   "id": "b0427dfa-883f-49a5-8344-353264eec4e3",
   "metadata": {},
   "outputs": [],
   "source": [
    "# load all of our data\n",
    "dataframes = from_checkpoint(\"1-assemble-01-load_dataframes\", load_dataframes,\n",
    "    {\n",
    "        \"settings\":settings,\n",
    "        \"verbose\":verbose\n",
    "    }\n",
    ")"
   ]
  },
  {
   "cell_type": "code",
   "execution_count": null,
   "id": "8f5ce66d-8269-42c7-b60d-29c2363c1df8",
   "metadata": {},
   "outputs": [],
   "source": [
    "# process all of our data\n",
    "sales_univ_pair = from_checkpoint(\"1-assemble-02-process_data\", process_data,\n",
    "    {\n",
    "        \"dataframes\":dataframes, \n",
    "        \"settings\":settings, \n",
    "        \"verbose\":verbose\n",
    "    }\n",
    ")"
   ]
  },
  {
   "cell_type": "code",
   "execution_count": null,
   "id": "a6431c99-e736-4df6-84e6-a8664388f890",
   "metadata": {},
   "outputs": [],
   "source": [
    "# process all of our sales\n",
    "sales_univ_pair = from_checkpoint(\"1-assemble-03-process_sales\", process_sales,\n",
    "    {\n",
    "        \"sup\": sales_univ_pair, \n",
    "        \"settings\": settings, \n",
    "        \"verbose\": verbose\n",
    "    }\n",
    ")"
   ]
  },
  {
   "cell_type": "markdown",
   "id": "2014e0b6-fe72-4d90-b294-fd141d608de1",
   "metadata": {},
   "source": [
    "# 3. Tag modeling groups"
   ]
  },
  {
   "cell_type": "code",
   "execution_count": null,
   "id": "a6b9d80b-4d56-4c87-ba14-eac97be442fb",
   "metadata": {},
   "outputs": [],
   "source": [
    "sales_univ_pair = from_checkpoint(\"1-assemble-04-tag_modeling_groups\", sup_tag_model_groups,\n",
    "    {\n",
    "        \"sup\": sales_univ_pair, \n",
    "        \"settings\": settings, \n",
    "        \"verbose\": verbose\n",
    "    }\n",
    ")"
   ]
  },
  {
   "cell_type": "markdown",
   "id": "dc25049d-3eee-486b-996e-142f0701eb74",
   "metadata": {},
   "source": [
    "# 4. Write out results"
   ]
  },
  {
   "cell_type": "code",
   "execution_count": null,
   "id": "4f4383cb-b0b8-4834-b2b0-58e60f660878",
   "metadata": {},
   "outputs": [],
   "source": [
    "with open (f\"out/sales_univ.pickle\", \"wb\") as file:\n",
    "    pickle.dump(sales_univ_pair, file)"
   ]
  },
  {
   "cell_type": "code",
   "execution_count": null,
   "id": "8e96f87c-c38d-43f4-beba-42fc25a5fb60",
   "metadata": {},
   "outputs": [],
   "source": [
    "os.makedirs(\"out/look\", exist_ok=True)\n",
    "sales_univ_pair[\"universe\"].to_parquet(\"out/look/1-assemble-universe.parquet\")\n",
    "sales_univ_pair[\"sales\"].to_parquet(\"out/look/1-assemble-sales.parquet\")"
   ]
  },
  {
   "cell_type": "code",
   "execution_count": null,
   "id": "08f26b08-daaf-4660-ae9b-fe00ec8fd7db",
   "metadata": {},
   "outputs": [],
   "source": []
  }
 ],
 "metadata": {
  "kernelspec": {
   "display_name": "Python 3 (ipykernel)",
   "language": "python",
   "name": "python3"
  },
  "language_info": {
   "codemirror_mode": {
    "name": "ipython",
    "version": 3
   },
   "file_extension": ".py",
   "mimetype": "text/x-python",
   "name": "python",
   "nbconvert_exporter": "python",
   "pygments_lexer": "ipython3",
   "version": "3.10.6"
  }
 },
 "nbformat": 4,
 "nbformat_minor": 5
}
