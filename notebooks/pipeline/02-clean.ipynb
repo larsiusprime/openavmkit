{
 "cells": [
  {
   "cell_type": "markdown",
   "id": "70472390-e9ca-4ae6-bf44-ea173ecd6ea3",
   "metadata": {},
   "source": [
    "# Clean\n",
    "\n",
    "This notebook loads your assembled data and prepares it for modeling.\n",
    "\n",
    "The final output is a `sup` that is fully ready for modeling and analysis.\n",
    "\n",
    "Here's what happens in this notebook:\n",
    "- We fill gaps in the data using reasonable assumptions\n",
    "- We prepare the data for further analysis by marking clusters\n",
    "- We process sales validity information\n",
    "- We run our own sales scrutiny heuristic to make sure we only use trustworthy sales that reflect market value\n",
    "\n",
    "These operations are necessary for modeling, but nevertheless inject a certain amount of subjectivity into the model, which is why we keep the results of the **Clean** notebook separate from those produced in the **Assemble** notebook."
   ]
  },
  {
   "cell_type": "code",
   "execution_count": 39,
   "id": "f52848e147c86a3c",
   "metadata": {},
   "outputs": [],
   "source": [
    "# Change these as desired\n",
    "\n",
    "# The slug of the locality you are currently working on\n",
    "locality = \"us-md-baltimorecity\"\n",
    "\n",
    "# Whether to print out a lot of stuff (can help with debugging) or stay mostly quiet\n",
    "verbose = True\n",
    "\n",
    "# Clear previous state for this notebook and start fresh\n",
    "clear_checkpoints = True"
   ]
  },
  {
   "cell_type": "markdown",
   "id": "94e2b17504a799e4",
   "metadata": {},
   "source": [
    "# 1. Basic setup"
   ]
  },
  {
   "cell_type": "code",
   "execution_count": 40,
   "id": "5091e3d7-3524-4d8a-b74f-e300e63b146f",
   "metadata": {},
   "outputs": [
    {
     "name": "stdout",
     "output_type": "stream",
     "text": [
      "Environment setup completed.\n"
     ]
    }
   ],
   "source": [
    "import init_notebooks\n",
    "init_notebooks.setup_environment()"
   ]
  },
  {
   "cell_type": "code",
   "execution_count": 41,
   "id": "initial_id",
   "metadata": {},
   "outputs": [],
   "source": [
    "# import a bunch of stuff\n",
    "from openavmkit.pipeline import (\n",
    "    init_notebook,\n",
    "    from_checkpoint,\n",
    "    delete_checkpoints,\n",
    "    write_checkpoint,\n",
    "    read_pickle,\n",
    "    load_settings,\n",
    "    examine_sup,\n",
    "    fill_unknown_values_sup,\n",
    "    process_sales,\n",
    "    mark_ss_ids_per_model_group_sup,\n",
    "    mark_horizontal_equity_clusters_per_model_group_sup,\n",
    "    run_sales_scrutiny_per_model_group_sup,\n",
    "    write_notebook_output_sup\n",
    ")"
   ]
  },
  {
   "cell_type": "code",
   "execution_count": 42,
   "id": "bac878e081b1c36f",
   "metadata": {},
   "outputs": [
    {
     "name": "stdout",
     "output_type": "stream",
     "text": [
      "locality = us-md-baltimorecity\n",
      "base path = /Users/gregmiller/Documents/openavmkit/openavmkit/notebooks/pipeline\n",
      "current path = /Users/gregmiller/Documents/openavmkit/openavmkit/notebooks/pipeline/data/us-md-baltimorecity\n"
     ]
    }
   ],
   "source": [
    "init_notebook(locality)"
   ]
  },
  {
   "cell_type": "code",
   "execution_count": 43,
   "id": "6c9e992b-bc8e-4571-b31c-10e787af2e06",
   "metadata": {},
   "outputs": [],
   "source": [
    "if clear_checkpoints:\n",
    "    delete_checkpoints(\"2-clean\")"
   ]
  },
  {
   "cell_type": "markdown",
   "id": "be1bd860-b07c-46cf-a362-e0e74eb0eb2a",
   "metadata": {},
   "source": [
    "# 2. Load data"
   ]
  },
  {
   "cell_type": "code",
   "execution_count": 44,
   "id": "17f058f7-20b3-4a09-a5ff-519559ae6fe1",
   "metadata": {},
   "outputs": [],
   "source": [
    "settings = load_settings()"
   ]
  },
  {
   "cell_type": "code",
   "execution_count": 45,
   "id": "9ac4ae929de30695",
   "metadata": {},
   "outputs": [],
   "source": [
    "# load the data\n",
    "sales_univ_pair = read_pickle(\"out/1-assemble-sup\")"
   ]
  },
  {
   "cell_type": "code",
   "execution_count": 46,
   "id": "5ac7f077-104c-43ba-99b6-f29e60179f94",
   "metadata": {},
   "outputs": [
    {
     "name": "stdout",
     "output_type": "stream",
     "text": [
      "\n",
      "EXAMINING UNIVERSE...\n",
      "\n",
      "            FIELD                 TYPE     NON-ZERO    %    NON-NULL    %                    UNIQUE                 \n",
      "============================== ========== ========== ===== ========== ===== ========================================\n",
      "             LAND             \n",
      "============================== ========== ========== ===== ========== ===== ========================================\n",
      "------------------------------ ---------- ---------- ----- ---------- ----- ----------------------------------------\n",
      "           NUMERIC            \n",
      "------------------------------ ---------- ---------- ----- ---------- ----- ----------------------------------------\n",
      "assr_land_value                 Float64      219,315   93%    236,505  100%                                         \n",
      "exempt_land_value               Float64       16,452    7%    236,471  100%                                         \n",
      "geom_aspect_ratio               float64      236,505  100%    236,505  100%                                         \n",
      "geom_rectangularity_num         Float64      236,487  100%    236,505  100%                                         \n",
      "geom_vertices                    int64       236,492  100%    236,505  100%                                         \n",
      "housing_growth_past_5_years     Float64      232,806   98%    236,328  100%                                         \n",
      "land_area_gis_delta_percent     Float64      141,996   60%    235,609  100%                                         \n",
      "land_area_gis_delta_sqft        Float64      142,892   60%    236,505  100%                                         \n",
      "land_area_gis_sqft              float64      236,505  100%    236,505  100%                                         \n",
      "land_area_given_sqft            Float64      141,996   60%    142,892   60%                                         \n",
      "land_area_sqft                  Float64      235,609  100%    236,505  100%                                         \n",
      "latitude                        float64      236,505  100%    236,505  100%                                         \n",
      "longitude                       float64      236,505  100%    236,505  100%                                         \n",
      "median_household_income         Float64      235,479  100%    236,328  100%                                         \n",
      "population_density              Float64      236,328  100%    236,328  100%                                         \n",
      "population_gr...h_past_5_years  Float64      235,371  100%    236,328  100%                                         \n",
      "transmission_line_distance      Float64      233,812   99%    234,959   99%                                         \n",
      "------------------------------ ---------- ---------- ----- ---------- ----- ----------------------------------------\n",
      "           BOOLEAN            \n",
      "------------------------------ ---------- ---------- ----- ---------- ----- ----------------------------------------\n",
      "is_geom_complex                 boolean        3,636    2%    236,505  100%                            [False, True]\n",
      "is_geom_elongated                 bool        97,242   41%    236,505  100%                            [False, True]\n",
      "is_geom_irregular               boolean      102,078   43%    236,505  100%                            [False, True]\n",
      "is_geom_triangular                bool         2,044    1%    236,505  100%                            [False, True]\n",
      "is_vacant                         bool       105,510   45%    236,505  100%                            [True, False]\n",
      "------------------------------ ---------- ---------- ----- ---------- ----- ----------------------------------------\n",
      "         CATEGORICAL          \n",
      "------------------------------ ---------- ---------- ----- ---------- ----- ----------------------------------------\n",
      "block                            string      236,505  100%    236,505  100%                                    5,547\n",
      "census_block                     string      236,505  100%    236,505  100%                                    9,163\n",
      "census_block_group               string      236,505  100%    236,505  100%                                      642\n",
      "census_tract                     string      236,505  100%    236,505  100%                                      218\n",
      "city                             string      236,505  100%    236,505  100%                            ['baltimore']\n",
      "lbcs_site_desc                   string      220,510   93%    220,510   93%                                        4\n",
      "lot                              string      236,471  100%    236,471  100%                                    3,080\n",
      "neighborhood                     string      235,850  100%    235,850  100%                                      281\n",
      "parcel_use_code                  string      236,471  100%    236,471  100%                                       12\n",
      "parcel_use_desc                  string      157,418   67%    157,418   67%                                       12\n",
      "police_district                  string      235,816  100%    235,816  100%                                       10\n",
      "risk_disaster                    string      236,318  100%    236,318  100%                                        5\n",
      "risk_flood                       string      234,215   99%    234,215   99%                                        4\n",
      "section                          string      236,471  100%    236,471  100%                                       67\n",
      "ward                             string      236,505  100%    236,505  100%                                       29\n",
      "zip                              string      236,505  100%    236,505  100%                                       41\n",
      "zoning                           string      236,504  100%    236,504  100%                                       71\n",
      "zoning_desc                      string      236,502  100%    236,502  100%                                       45\n",
      "zoning_subtype                   string      236,502  100%    236,502  100%                                       14\n",
      "zoning_type                      string      236,502  100%    236,502  100%                                        7\n",
      "\n",
      "============================== ========== ========== ===== ========== ===== ========================================\n",
      "         IMPROVEMENT          \n",
      "============================== ========== ========== ===== ========== ===== ========================================\n",
      "------------------------------ ---------- ---------- ----- ---------- ----- ----------------------------------------\n",
      "           NUMERIC            \n",
      "------------------------------ ---------- ---------- ----- ---------- ----- ----------------------------------------\n",
      "assr_impr_value                 Float64      208,668   88%    236,505  100%                                         \n",
      "bldg_age_years                  Float64      179,593   76%    179,593   76%                                         \n",
      "bldg_area_finished_sqft         Float64      217,389   92%    217,389   92%                                         \n",
      "bldg_area_footprint_sqft        Float64      216,205   91%    216,205   91%                                         \n",
      "bldg_count                      Float64      216,205   91%    236,505  100%                                         \n",
      "bldg_rooms_bath                 Float64      135,688   57%    137,139   58%                                         \n",
      "bldg_rooms_bed                  Float64       81,787   35%     82,768   35%                                         \n",
      "bldg_stories                    Float64        8,786    4%      8,786    4%                                         \n",
      "bldg_units                      Float64          266    0%    236,505  100%                                         \n",
      "bldg_year_built                 Float64      179,593   76%    179,593   76%                                         \n",
      "exempt_impr_value               Float64        7,842    3%    236,471  100%                                         \n",
      "------------------------------ ---------- ---------- ----- ---------- ----- ----------------------------------------\n",
      "           BOOLEAN            \n",
      "------------------------------ ---------- ---------- ----- ---------- ----- ----------------------------------------\n",
      "is_bldg_vacant                   object      236,471  100%    236,471  100%                              [True, nan]\n",
      "is_usps_vacant                    bool       236,505  100%    236,505  100%                                   [True]\n",
      "------------------------------ ---------- ---------- ----- ---------- ----- ----------------------------------------\n",
      "         CATEGORICAL          \n",
      "------------------------------ ---------- ---------- ----- ---------- ----- ----------------------------------------\n",
      "bldg_class                       string      155,045   66%    155,045   66%                                       10\n",
      "bldg_style                       string      107,998   46%    107,998   46%                                      133\n",
      "lbcs_activity_desc               string      220,510   93%    220,510   93%                                        6\n",
      "lbcs_function_desc               string      220,510   93%    220,510   93%                                        6\n",
      "lbcs_structure_desc              string      219,980   93%    219,980   93%                                        5\n",
      "\n",
      "============================== ========== ========== ===== ========== ===== ========================================\n",
      "            OTHER             \n",
      "============================== ========== ========== ===== ========== ===== ========================================\n",
      "------------------------------ ---------- ---------- ----- ---------- ----- ----------------------------------------\n",
      "           NUMERIC            \n",
      "------------------------------ ---------- ---------- ----- ---------- ----- ----------------------------------------\n",
      "assr_market_value               Float64      219,397   93%    236,505  100%                                         \n",
      "credit_city_homestead           Float64          221    0%    233,674   99%                                         \n",
      "credit_state_homestead          Float64        5,355    2%    236,471  100%                                         \n",
      "sale_age_days                    Int64       236,502  100%    236,502  100%                                         \n",
      "sale_month                      float64      236,502  100%    236,502  100%                                         \n",
      "sale_price                      Float64      168,569   71%    236,505  100%                                         \n",
      "sale_quarter                    float64      236,502  100%    236,502  100%                                         \n",
      "sale_year                       float64      236,502  100%    236,502  100%                                         \n",
      "zestimate                       Float64      125,240   53%    125,240   53%                                         \n",
      "------------------------------ ---------- ---------- ----- ---------- ----- ----------------------------------------\n",
      "           BOOLEAN            \n",
      "------------------------------ ---------- ---------- ----- ---------- ----- ----------------------------------------\n",
      "is_vacant                         bool       105,510   45%    236,505  100%                            [True, False]\n",
      "------------------------------ ---------- ---------- ----- ---------- ----- ----------------------------------------\n",
      "         CATEGORICAL          \n",
      "------------------------------ ---------- ---------- ----- ---------- ----- ----------------------------------------\n",
      "assess_grp                       string      236,471  100%    236,471  100%                    ['2', <NA>, '3', '1']\n",
      "assessor                         string      236,384  100%    236,384  100%                                       46\n",
      "exempt_code                      string      236,470  100%    236,470  100%                                       81\n",
      "exempt_type                      string           32    0%         32    0%                              [<NA>, 'E']\n",
      "key                              string      236,505  100%    236,505  100%                                  236,505\n",
      "lbcs_ownership_desc              string      199,628   84%    199,628   84%                                       10\n",
      "mail_city                        string      170,271   72%    170,271   72%                                    2,980\n",
      "mail_state                       string      170,414   72%    170,414   72%                                       87\n",
      "mail_zip                         string      221,077   93%    221,077   93%                                   22,951\n",
      "model_group                      object      236,505  100%    236,505  100%                                        6\n",
      "owner_vs_renter                  string      236,505  100%    236,505  100%                          ['N', 'H', 'D']\n",
      "ownership_mode                   string      207,412   88%    207,412   88%                    ['F', <NA>, 'L', '3']\n",
      "parcel_value_type                string      236,505  100%    236,505  100%                               ['MARKET']\n",
      "sale_date                      datetime64[ns]    236,502  100%    236,502  100%                                   15,443\n",
      "sale_year_month                  object      236,505  100%    236,505  100%                                    1,258\n",
      "sale_year_quarter                object      236,505  100%    236,505  100%                                      507\n",
      "status_owner                     string      236,471  100%    236,471  100%                    ['N', 'H', <NA>, 'D']\n",
      "\n",
      "============================== ========== ========== ===== ========== ===== ========================================\n",
      "UNCLASSIFIED:                 \n",
      "============================== ========== ========== ===== ========== ===== ========================================\n",
      "address                          object      229,593   97%    229,593   97%                                  226,825\n",
      "address_mail                     object      236,471  100%    236,471  100%                                  175,679\n",
      "bldg_area_fin..._sqft_inferred    bool       236,505  100%    236,505  100%                            [True, False]\n",
      "dist_to_educational             float64      236,505  100%    236,505  100%                                  218,696\n",
      "dist_to_educa...ins_university  float64      236,505  100%    236,505  100%                                  222,140\n",
      "dist_to_educa...rsity_maryland  float64      236,505  100%    236,505  100%                                  222,185\n",
      "dist_to_educa..._for_the_blind  float64      236,505  100%    236,505  100%                                  222,163\n",
      "dist_to_educa...ate_university  float64      236,505  100%    236,505  100%                                  222,247\n",
      "dist_to_educa...ltimore_county  float64      236,505  100%    236,505  100%                                  222,363\n",
      "dist_to_golf_courses            float64      236,505  100%    236,505  100%                                  222,110\n",
      "dist_to_golf_...rk_golf_course  float64      236,505  100%    236,505  100%                                  222,253\n",
      "dist_to_golf_...rk_golf_course  float64      236,505  100%    236,505  100%                                  222,289\n",
      "dist_to_golf_...nt_golf_course  float64      236,505  100%    236,505  100%                                  222,196\n",
      "dist_to_parks                   float64      236,505  100%    236,505  100%                                  216,400\n",
      "dist_to_parks...p_clifton_park  float64      236,505  100%    236,505  100%                                  222,149\n",
      "dist_to_parks...burn_arboretum  float64      236,505  100%    236,505  100%                                  222,325\n",
      "dist_to_parks...ruid_hill_park  float64      236,505  100%    236,505  100%                                  222,285\n",
      "dist_to_parks..._/_leakin_park  float64      236,505  100%    236,505  100%                                  221,921\n",
      "dist_to_parks...rring_run_park  float64      236,505  100%    236,505  100%                                  221,962\n",
      "dist_to_transportation          float64      236,505  100%    236,505  100%                                  220,815\n",
      "dist_to_trans...heast_corridor  float64      236,505  100%    236,505  100%                                  222,017\n",
      "dist_to_trans..._unnamed_route  float64      236,505  100%    236,505  100%                                  222,187\n",
      "dist_to_water_bodies            float64      236,505  100%    236,505  100%                                  221,815\n",
      "dist_to_water...p_curtis_creek  float64      236,505  100%    236,505  100%                                  222,030\n",
      "dist_to_water...patapsco_river  float64      236,505  100%    236,505  100%                                  222,240\n",
      "dist_to_water...rthwest_harbor  float64      236,505  100%    236,505  100%                                  221,686\n",
      "dist_to_water...patapsco_river  float64      236,505  100%    236,505  100%                                  222,173\n",
      "geometry                        geometry     236,505  100%    236,505  100%                                  222,588\n",
      "key2                             object      155,045   66%    155,045   66%                                  154,875\n",
      "zoning_url                       object      236,502  100%    236,502  100%                                        4\n",
      "\n",
      "EXAMINING SALES...\n",
      "\n",
      "            FIELD                 TYPE     NON-ZERO    %    NON-NULL    %                    UNIQUE                 \n",
      "============================== ========== ========== ===== ========== ===== ========================================\n",
      "            OTHER             \n",
      "============================== ========== ========== ===== ========== ===== ========================================\n",
      "------------------------------ ---------- ---------- ----- ---------- ----- ----------------------------------------\n",
      "           NUMERIC            \n",
      "------------------------------ ---------- ---------- ----- ---------- ----- ----------------------------------------\n",
      "sale_age_days                    Int64        54,118  100%     54,118  100%                                         \n",
      "sale_month                      float64       54,118  100%     54,118  100%                                         \n",
      "sale_price                      Float64       54,122  100%     54,124  100%                                         \n",
      "sale_price_time_adj             Float64       54,122  100%     54,123  100%                                         \n",
      "sale_quarter                    float64       54,118  100%     54,118  100%                                         \n",
      "sale_year                       float64       54,118  100%     54,118  100%                                         \n",
      "------------------------------ ---------- ---------- ----- ---------- ----- ----------------------------------------\n",
      "           BOOLEAN            \n",
      "------------------------------ ---------- ---------- ----- ---------- ----- ----------------------------------------\n",
      "vacant_sale                      object          599    1%     54,124  100%                            [False, True]\n",
      "valid_for_land_ratio_study        bool           599    1%     54,124  100%                            [False, True]\n",
      "valid_for_ratio_study             bool        32,735   60%     54,124  100%                            [True, False]\n",
      "valid_sale                       object       54,124  100%     54,124  100%                                   [True]\n",
      "------------------------------ ---------- ---------- ----- ---------- ----- ----------------------------------------\n",
      "         CATEGORICAL          \n",
      "------------------------------ ---------- ---------- ----- ---------- ----- ----------------------------------------\n",
      "key                              string       54,124  100%     54,124  100%                                   48,117\n",
      "key_sale                         string       54,124  100%     54,124  100%                                   54,124\n",
      "sale_date                      datetime64[ns]     54,118  100%     54,118  100%                                    1,326\n",
      "sale_year_month                  object       54,124  100%     54,124  100%                                       64\n",
      "sale_year_quarter                object       54,124  100%     54,124  100%                                       23\n",
      "\n",
      "============================== ========== ========== ===== ========== ===== ========================================\n",
      "UNCLASSIFIED:                 \n",
      "============================== ========== ========== ===== ========== ===== ========================================\n",
      "sale_grantor                     object       54,116  100%     54,116  100%                                   39,446\n",
      "sale_record                     float64       54,124  100%     54,124  100%                          [1.0, 2.0, 3.0]\n"
     ]
    }
   ],
   "source": [
    "examine_sup(sales_univ_pair, settings)"
   ]
  },
  {
   "cell_type": "markdown",
   "id": "cebf2f4c-16ec-4be4-a5d4-f50b36d5fde6",
   "metadata": {},
   "source": [
    "# 3. Fill unknowns\n",
    "\n",
    "Modeling functions are unable to process null data, so you need to fill them in somehow.   \n",
    "The goal is to **eliminate all gaps in your data,** at least for fields you intend to turn into modeling variables.\n",
    "\n",
    "Consult the documentation for more details and best practices on filling unknown values."
   ]
  },
  {
   "cell_type": "code",
   "execution_count": 47,
   "id": "b3f6c117-2685-4cb6-970e-9dd21fa3c37c",
   "metadata": {},
   "outputs": [
    {
     "name": "stderr",
     "output_type": "stream",
     "text": [
      "/Users/gregmiller/Documents/openavmkit/openavmkit/openavmkit/cleaning.py:368: FutureWarning: Downcasting object dtype arrays on .fillna, .ffill, .bfill is deprecated and will change in a future version. Call result.infer_objects(copy=False) instead. To opt-in to the future behavior, set `pd.set_option('future.no_silent_downcasting', True)`\n",
      "  df[field] = df[field].fillna(False).infer_objects(copy=False).astype(bool)\n",
      "/Users/gregmiller/Documents/openavmkit/openavmkit/openavmkit/cleaning.py:368: FutureWarning: Downcasting object dtype arrays on .fillna, .ffill, .bfill is deprecated and will change in a future version. Call result.infer_objects(copy=False) instead. To opt-in to the future behavior, set `pd.set_option('future.no_silent_downcasting', True)`\n",
      "  df[field] = df[field].fillna(False).infer_objects(copy=False).astype(bool)\n",
      "/Users/gregmiller/Documents/openavmkit/openavmkit/openavmkit/cleaning.py:368: FutureWarning: Downcasting object dtype arrays on .fillna, .ffill, .bfill is deprecated and will change in a future version. Call result.infer_objects(copy=False) instead. To opt-in to the future behavior, set `pd.set_option('future.no_silent_downcasting', True)`\n",
      "  df[field] = df[field].fillna(False).infer_objects(copy=False).astype(bool)\n",
      "/Users/gregmiller/Documents/openavmkit/openavmkit/openavmkit/cleaning.py:368: FutureWarning: Downcasting object dtype arrays on .fillna, .ffill, .bfill is deprecated and will change in a future version. Call result.infer_objects(copy=False) instead. To opt-in to the future behavior, set `pd.set_option('future.no_silent_downcasting', True)`\n",
      "  df[field] = df[field].fillna(False).infer_objects(copy=False).astype(bool)\n",
      "/Users/gregmiller/Documents/openavmkit/openavmkit/openavmkit/cleaning.py:368: FutureWarning: Downcasting object dtype arrays on .fillna, .ffill, .bfill is deprecated and will change in a future version. Call result.infer_objects(copy=False) instead. To opt-in to the future behavior, set `pd.set_option('future.no_silent_downcasting', True)`\n",
      "  df[field] = df[field].fillna(False).infer_objects(copy=False).astype(bool)\n",
      "/Users/gregmiller/Documents/openavmkit/openavmkit/openavmkit/cleaning.py:368: FutureWarning: Downcasting object dtype arrays on .fillna, .ffill, .bfill is deprecated and will change in a future version. Call result.infer_objects(copy=False) instead. To opt-in to the future behavior, set `pd.set_option('future.no_silent_downcasting', True)`\n",
      "  df[field] = df[field].fillna(False).infer_objects(copy=False).astype(bool)\n",
      "/Users/gregmiller/Documents/openavmkit/openavmkit/openavmkit/cleaning.py:368: FutureWarning: Downcasting object dtype arrays on .fillna, .ffill, .bfill is deprecated and will change in a future version. Call result.infer_objects(copy=False) instead. To opt-in to the future behavior, set `pd.set_option('future.no_silent_downcasting', True)`\n",
      "  df[field] = df[field].fillna(False).infer_objects(copy=False).astype(bool)\n",
      "/Users/gregmiller/Documents/openavmkit/openavmkit/openavmkit/cleaning.py:368: FutureWarning: Downcasting object dtype arrays on .fillna, .ffill, .bfill is deprecated and will change in a future version. Call result.infer_objects(copy=False) instead. To opt-in to the future behavior, set `pd.set_option('future.no_silent_downcasting', True)`\n",
      "  df[field] = df[field].fillna(False).infer_objects(copy=False).astype(bool)\n"
     ]
    }
   ],
   "source": [
    "# Fill holes in the data with sensible defaults\n",
    "sales_univ_pair = fill_unknown_values_sup(sales_univ_pair, settings)"
   ]
  },
  {
   "cell_type": "code",
   "execution_count": 48,
   "id": "60035779-ed1f-41b5-adbf-f533fb769c19",
   "metadata": {
    "scrolled": true
   },
   "outputs": [
    {
     "name": "stdout",
     "output_type": "stream",
     "text": [
      "\n",
      "EXAMINING UNIVERSE...\n",
      "\n",
      "            FIELD                 TYPE     NON-ZERO    %    NON-NULL    %                    UNIQUE                 \n",
      "============================== ========== ========== ===== ========== ===== ========================================\n",
      "             LAND             \n",
      "============================== ========== ========== ===== ========== ===== ========================================\n",
      "------------------------------ ---------- ---------- ----- ---------- ----- ----------------------------------------\n",
      "           NUMERIC            \n",
      "------------------------------ ---------- ---------- ----- ---------- ----- ----------------------------------------\n",
      "assr_land_value                 Float64      219,315   93%    236,505  100%                                         \n",
      "exempt_land_value               Float64       16,452    7%    236,471  100%                                         \n",
      "geom_aspect_ratio               float64      236,505  100%    236,505  100%                                         \n"
     ]
    },
    {
     "ename": "KeyboardInterrupt",
     "evalue": "",
     "output_type": "error",
     "traceback": [
      "\u001b[0;31m---------------------------------------------------------------------------\u001b[0m",
      "\u001b[0;31mKeyboardInterrupt\u001b[0m                         Traceback (most recent call last)",
      "Cell \u001b[0;32mIn[48], line 2\u001b[0m\n\u001b[1;32m      1\u001b[0m \u001b[38;5;66;03m# Look at the data and make sure it makes sense\u001b[39;00m\n\u001b[0;32m----> 2\u001b[0m \u001b[43mexamine_sup\u001b[49m\u001b[43m(\u001b[49m\u001b[43msales_univ_pair\u001b[49m\u001b[43m,\u001b[49m\u001b[43m \u001b[49m\u001b[43msettings\u001b[49m\u001b[43m)\u001b[49m\n",
      "File \u001b[0;32m~/Documents/openavmkit/openavmkit/openavmkit/pipeline.py:148\u001b[0m, in \u001b[0;36mexamine_sup\u001b[0;34m(sup, s)\u001b[0m\n\u001b[1;32m    146\u001b[0m \u001b[38;5;28mprint\u001b[39m(\u001b[38;5;124m\"\u001b[39m\u001b[38;5;124mEXAMINING UNIVERSE...\u001b[39m\u001b[38;5;124m\"\u001b[39m)\n\u001b[1;32m    147\u001b[0m \u001b[38;5;28mprint\u001b[39m(\u001b[38;5;124m\"\u001b[39m\u001b[38;5;124m\"\u001b[39m)\n\u001b[0;32m--> 148\u001b[0m \u001b[43mexamine_df\u001b[49m\u001b[43m(\u001b[49m\u001b[43msup\u001b[49m\u001b[43m[\u001b[49m\u001b[38;5;124;43m\"\u001b[39;49m\u001b[38;5;124;43muniverse\u001b[39;49m\u001b[38;5;124;43m\"\u001b[39;49m\u001b[43m]\u001b[49m\u001b[43m,\u001b[49m\u001b[43m \u001b[49m\u001b[43ms\u001b[49m\u001b[43m)\u001b[49m\n\u001b[1;32m    150\u001b[0m \u001b[38;5;28mprint\u001b[39m(\u001b[38;5;124m\"\u001b[39m\u001b[38;5;124m\"\u001b[39m)\n\u001b[1;32m    151\u001b[0m \u001b[38;5;28mprint\u001b[39m(\u001b[38;5;124m\"\u001b[39m\u001b[38;5;124mEXAMINING SALES...\u001b[39m\u001b[38;5;124m\"\u001b[39m)\n",
      "File \u001b[0;32m~/Documents/openavmkit/openavmkit/openavmkit/pipeline.py:397\u001b[0m, in \u001b[0;36mexamine_df\u001b[0;34m(df, s)\u001b[0m\n\u001b[1;32m    395\u001b[0m \u001b[38;5;28;01mfor\u001b[39;00m n \u001b[38;5;129;01min\u001b[39;00m nums:\n\u001b[1;32m    396\u001b[0m    fields_noted\u001b[38;5;241m.\u001b[39mappend(n)\n\u001b[0;32m--> 397\u001b[0m    df_non_null \u001b[38;5;241m=\u001b[39m \u001b[43mdf\u001b[49m\u001b[43m[\u001b[49m\u001b[38;5;241;43m~\u001b[39;49m\u001b[43mpd\u001b[49m\u001b[38;5;241;43m.\u001b[39;49m\u001b[43misna\u001b[49m\u001b[43m(\u001b[49m\u001b[43mdf\u001b[49m\u001b[43m[\u001b[49m\u001b[43mn\u001b[49m\u001b[43m]\u001b[49m\u001b[43m)\u001b[49m\u001b[43m]\u001b[49m\n\u001b[1;32m    398\u001b[0m    non_zero \u001b[38;5;241m=\u001b[39m \u001b[38;5;28mlen\u001b[39m(df_non_null[np\u001b[38;5;241m.\u001b[39mabs(df_non_null[n])\u001b[38;5;241m.\u001b[39mgt(\u001b[38;5;241m0\u001b[39m)])\n\u001b[1;32m    399\u001b[0m    perc \u001b[38;5;241m=\u001b[39m non_zero \u001b[38;5;241m/\u001b[39m \u001b[38;5;28mlen\u001b[39m(df)\n",
      "File \u001b[0;32m~/Documents/openavmkit/openavmkit/.venv/lib/python3.12/site-packages/geopandas/geodataframe.py:1750\u001b[0m, in \u001b[0;36mGeoDataFrame.__getitem__\u001b[0;34m(self, key)\u001b[0m\n\u001b[1;32m   1744\u001b[0m \u001b[38;5;28;01mdef\u001b[39;00m\u001b[38;5;250m \u001b[39m\u001b[38;5;21m__getitem__\u001b[39m(\u001b[38;5;28mself\u001b[39m, key):\n\u001b[1;32m   1745\u001b[0m \u001b[38;5;250m    \u001b[39m\u001b[38;5;124;03m\"\"\"\u001b[39;00m\n\u001b[1;32m   1746\u001b[0m \u001b[38;5;124;03m    If the result is a column containing only 'geometry', return a\u001b[39;00m\n\u001b[1;32m   1747\u001b[0m \u001b[38;5;124;03m    GeoSeries. If it's a DataFrame with any columns of GeometryDtype,\u001b[39;00m\n\u001b[1;32m   1748\u001b[0m \u001b[38;5;124;03m    return a GeoDataFrame.\u001b[39;00m\n\u001b[1;32m   1749\u001b[0m \u001b[38;5;124;03m    \"\"\"\u001b[39;00m\n\u001b[0;32m-> 1750\u001b[0m     result \u001b[38;5;241m=\u001b[39m \u001b[38;5;28;43msuper\u001b[39;49m\u001b[43m(\u001b[49m\u001b[43m)\u001b[49m\u001b[38;5;241;43m.\u001b[39;49m\u001b[38;5;21;43m__getitem__\u001b[39;49m\u001b[43m(\u001b[49m\u001b[43mkey\u001b[49m\u001b[43m)\u001b[49m\n\u001b[1;32m   1751\u001b[0m     \u001b[38;5;66;03m# Custom logic to avoid waiting for pandas GH51895\u001b[39;00m\n\u001b[1;32m   1752\u001b[0m     \u001b[38;5;66;03m# result is not geometry dtype for multi-indexes\u001b[39;00m\n\u001b[1;32m   1753\u001b[0m     \u001b[38;5;28;01mif\u001b[39;00m (\n\u001b[1;32m   1754\u001b[0m         pd\u001b[38;5;241m.\u001b[39mapi\u001b[38;5;241m.\u001b[39mtypes\u001b[38;5;241m.\u001b[39mis_scalar(key)\n\u001b[1;32m   1755\u001b[0m         \u001b[38;5;129;01mand\u001b[39;00m key \u001b[38;5;241m==\u001b[39m \u001b[38;5;124m\"\u001b[39m\u001b[38;5;124m\"\u001b[39m\n\u001b[0;32m   (...)\u001b[0m\n\u001b[1;32m   1758\u001b[0m         \u001b[38;5;129;01mand\u001b[39;00m \u001b[38;5;129;01mnot\u001b[39;00m is_geometry_type(result)\n\u001b[1;32m   1759\u001b[0m     ):\n",
      "File \u001b[0;32m~/Documents/openavmkit/openavmkit/.venv/lib/python3.12/site-packages/pandas/core/frame.py:4093\u001b[0m, in \u001b[0;36mDataFrame.__getitem__\u001b[0;34m(self, key)\u001b[0m\n\u001b[1;32m   4091\u001b[0m \u001b[38;5;66;03m# Do we have a (boolean) 1d indexer?\u001b[39;00m\n\u001b[1;32m   4092\u001b[0m \u001b[38;5;28;01mif\u001b[39;00m com\u001b[38;5;241m.\u001b[39mis_bool_indexer(key):\n\u001b[0;32m-> 4093\u001b[0m     \u001b[38;5;28;01mreturn\u001b[39;00m \u001b[38;5;28;43mself\u001b[39;49m\u001b[38;5;241;43m.\u001b[39;49m\u001b[43m_getitem_bool_array\u001b[49m\u001b[43m(\u001b[49m\u001b[43mkey\u001b[49m\u001b[43m)\u001b[49m\n\u001b[1;32m   4095\u001b[0m \u001b[38;5;66;03m# We are left with two options: a single key, and a collection of keys,\u001b[39;00m\n\u001b[1;32m   4096\u001b[0m \u001b[38;5;66;03m# We interpret tuples as collections only for non-MultiIndex\u001b[39;00m\n\u001b[1;32m   4097\u001b[0m is_single_key \u001b[38;5;241m=\u001b[39m \u001b[38;5;28misinstance\u001b[39m(key, \u001b[38;5;28mtuple\u001b[39m) \u001b[38;5;129;01mor\u001b[39;00m \u001b[38;5;129;01mnot\u001b[39;00m is_list_like(key)\n",
      "File \u001b[0;32m~/Documents/openavmkit/openavmkit/.venv/lib/python3.12/site-packages/pandas/core/frame.py:4152\u001b[0m, in \u001b[0;36mDataFrame._getitem_bool_array\u001b[0;34m(self, key)\u001b[0m\n\u001b[1;32m   4149\u001b[0m key \u001b[38;5;241m=\u001b[39m check_bool_indexer(\u001b[38;5;28mself\u001b[39m\u001b[38;5;241m.\u001b[39mindex, key)\n\u001b[1;32m   4151\u001b[0m \u001b[38;5;28;01mif\u001b[39;00m key\u001b[38;5;241m.\u001b[39mall():\n\u001b[0;32m-> 4152\u001b[0m     \u001b[38;5;28;01mreturn\u001b[39;00m \u001b[38;5;28;43mself\u001b[39;49m\u001b[38;5;241;43m.\u001b[39;49m\u001b[43mcopy\u001b[49m\u001b[43m(\u001b[49m\u001b[43mdeep\u001b[49m\u001b[38;5;241;43m=\u001b[39;49m\u001b[38;5;28;43;01mNone\u001b[39;49;00m\u001b[43m)\u001b[49m\n\u001b[1;32m   4154\u001b[0m indexer \u001b[38;5;241m=\u001b[39m key\u001b[38;5;241m.\u001b[39mnonzero()[\u001b[38;5;241m0\u001b[39m]\n\u001b[1;32m   4155\u001b[0m \u001b[38;5;28;01mreturn\u001b[39;00m \u001b[38;5;28mself\u001b[39m\u001b[38;5;241m.\u001b[39m_take_with_is_copy(indexer, axis\u001b[38;5;241m=\u001b[39m\u001b[38;5;241m0\u001b[39m)\n",
      "File \u001b[0;32m~/Documents/openavmkit/openavmkit/.venv/lib/python3.12/site-packages/geopandas/geodataframe.py:1826\u001b[0m, in \u001b[0;36mGeoDataFrame.copy\u001b[0;34m(self, deep)\u001b[0m\n\u001b[1;32m   1824\u001b[0m \u001b[38;5;129m@doc\u001b[39m(pd\u001b[38;5;241m.\u001b[39mDataFrame)\n\u001b[1;32m   1825\u001b[0m \u001b[38;5;28;01mdef\u001b[39;00m\u001b[38;5;250m \u001b[39m\u001b[38;5;21mcopy\u001b[39m(\u001b[38;5;28mself\u001b[39m, deep\u001b[38;5;241m=\u001b[39m\u001b[38;5;28;01mTrue\u001b[39;00m):\n\u001b[0;32m-> 1826\u001b[0m     copied \u001b[38;5;241m=\u001b[39m \u001b[38;5;28;43msuper\u001b[39;49m\u001b[43m(\u001b[49m\u001b[43m)\u001b[49m\u001b[38;5;241;43m.\u001b[39;49m\u001b[43mcopy\u001b[49m\u001b[43m(\u001b[49m\u001b[43mdeep\u001b[49m\u001b[38;5;241;43m=\u001b[39;49m\u001b[43mdeep\u001b[49m\u001b[43m)\u001b[49m\n\u001b[1;32m   1827\u001b[0m     \u001b[38;5;28;01mif\u001b[39;00m \u001b[38;5;28mtype\u001b[39m(copied) \u001b[38;5;129;01mis\u001b[39;00m pd\u001b[38;5;241m.\u001b[39mDataFrame:\n\u001b[1;32m   1828\u001b[0m         copied\u001b[38;5;241m.\u001b[39m\u001b[38;5;18m__class__\u001b[39m \u001b[38;5;241m=\u001b[39m GeoDataFrame\n",
      "File \u001b[0;32m~/Documents/openavmkit/openavmkit/.venv/lib/python3.12/site-packages/pandas/core/generic.py:6811\u001b[0m, in \u001b[0;36mNDFrame.copy\u001b[0;34m(self, deep)\u001b[0m\n\u001b[1;32m   6662\u001b[0m \u001b[38;5;129m@final\u001b[39m\n\u001b[1;32m   6663\u001b[0m \u001b[38;5;28;01mdef\u001b[39;00m\u001b[38;5;250m \u001b[39m\u001b[38;5;21mcopy\u001b[39m(\u001b[38;5;28mself\u001b[39m, deep: bool_t \u001b[38;5;241m|\u001b[39m \u001b[38;5;28;01mNone\u001b[39;00m \u001b[38;5;241m=\u001b[39m \u001b[38;5;28;01mTrue\u001b[39;00m) \u001b[38;5;241m-\u001b[39m\u001b[38;5;241m>\u001b[39m Self:\n\u001b[1;32m   6664\u001b[0m \u001b[38;5;250m    \u001b[39m\u001b[38;5;124;03m\"\"\"\u001b[39;00m\n\u001b[1;32m   6665\u001b[0m \u001b[38;5;124;03m    Make a copy of this object's indices and data.\u001b[39;00m\n\u001b[1;32m   6666\u001b[0m \n\u001b[0;32m   (...)\u001b[0m\n\u001b[1;32m   6809\u001b[0m \u001b[38;5;124;03m    dtype: int64\u001b[39;00m\n\u001b[1;32m   6810\u001b[0m \u001b[38;5;124;03m    \"\"\"\u001b[39;00m\n\u001b[0;32m-> 6811\u001b[0m     data \u001b[38;5;241m=\u001b[39m \u001b[38;5;28;43mself\u001b[39;49m\u001b[38;5;241;43m.\u001b[39;49m\u001b[43m_mgr\u001b[49m\u001b[38;5;241;43m.\u001b[39;49m\u001b[43mcopy\u001b[49m\u001b[43m(\u001b[49m\u001b[43mdeep\u001b[49m\u001b[38;5;241;43m=\u001b[39;49m\u001b[43mdeep\u001b[49m\u001b[43m)\u001b[49m\n\u001b[1;32m   6812\u001b[0m     \u001b[38;5;28mself\u001b[39m\u001b[38;5;241m.\u001b[39m_clear_item_cache()\n\u001b[1;32m   6813\u001b[0m     \u001b[38;5;28;01mreturn\u001b[39;00m \u001b[38;5;28mself\u001b[39m\u001b[38;5;241m.\u001b[39m_constructor_from_mgr(data, axes\u001b[38;5;241m=\u001b[39mdata\u001b[38;5;241m.\u001b[39maxes)\u001b[38;5;241m.\u001b[39m__finalize__(\n\u001b[1;32m   6814\u001b[0m         \u001b[38;5;28mself\u001b[39m, method\u001b[38;5;241m=\u001b[39m\u001b[38;5;124m\"\u001b[39m\u001b[38;5;124mcopy\u001b[39m\u001b[38;5;124m\"\u001b[39m\n\u001b[1;32m   6815\u001b[0m     )\n",
      "File \u001b[0;32m~/Documents/openavmkit/openavmkit/.venv/lib/python3.12/site-packages/pandas/core/internals/managers.py:593\u001b[0m, in \u001b[0;36mBaseBlockManager.copy\u001b[0;34m(self, deep)\u001b[0m\n\u001b[1;32m    590\u001b[0m     \u001b[38;5;28;01melse\u001b[39;00m:\n\u001b[1;32m    591\u001b[0m         new_axes \u001b[38;5;241m=\u001b[39m \u001b[38;5;28mlist\u001b[39m(\u001b[38;5;28mself\u001b[39m\u001b[38;5;241m.\u001b[39maxes)\n\u001b[0;32m--> 593\u001b[0m res \u001b[38;5;241m=\u001b[39m \u001b[38;5;28;43mself\u001b[39;49m\u001b[38;5;241;43m.\u001b[39;49m\u001b[43mapply\u001b[49m\u001b[43m(\u001b[49m\u001b[38;5;124;43m\"\u001b[39;49m\u001b[38;5;124;43mcopy\u001b[39;49m\u001b[38;5;124;43m\"\u001b[39;49m\u001b[43m,\u001b[49m\u001b[43m \u001b[49m\u001b[43mdeep\u001b[49m\u001b[38;5;241;43m=\u001b[39;49m\u001b[43mdeep\u001b[49m\u001b[43m)\u001b[49m\n\u001b[1;32m    594\u001b[0m res\u001b[38;5;241m.\u001b[39maxes \u001b[38;5;241m=\u001b[39m new_axes\n\u001b[1;32m    596\u001b[0m \u001b[38;5;28;01mif\u001b[39;00m \u001b[38;5;28mself\u001b[39m\u001b[38;5;241m.\u001b[39mndim \u001b[38;5;241m>\u001b[39m \u001b[38;5;241m1\u001b[39m:\n\u001b[1;32m    597\u001b[0m     \u001b[38;5;66;03m# Avoid needing to re-compute these\u001b[39;00m\n",
      "File \u001b[0;32m~/Documents/openavmkit/openavmkit/.venv/lib/python3.12/site-packages/pandas/core/internals/managers.py:363\u001b[0m, in \u001b[0;36mBaseBlockManager.apply\u001b[0;34m(self, f, align_keys, **kwargs)\u001b[0m\n\u001b[1;32m    361\u001b[0m         applied \u001b[38;5;241m=\u001b[39m b\u001b[38;5;241m.\u001b[39mapply(f, \u001b[38;5;241m*\u001b[39m\u001b[38;5;241m*\u001b[39mkwargs)\n\u001b[1;32m    362\u001b[0m     \u001b[38;5;28;01melse\u001b[39;00m:\n\u001b[0;32m--> 363\u001b[0m         applied \u001b[38;5;241m=\u001b[39m \u001b[38;5;28;43mgetattr\u001b[39;49m\u001b[43m(\u001b[49m\u001b[43mb\u001b[49m\u001b[43m,\u001b[49m\u001b[43m \u001b[49m\u001b[43mf\u001b[49m\u001b[43m)\u001b[49m\u001b[43m(\u001b[49m\u001b[38;5;241;43m*\u001b[39;49m\u001b[38;5;241;43m*\u001b[39;49m\u001b[43mkwargs\u001b[49m\u001b[43m)\u001b[49m\n\u001b[1;32m    364\u001b[0m     result_blocks \u001b[38;5;241m=\u001b[39m extend_blocks(applied, result_blocks)\n\u001b[1;32m    366\u001b[0m out \u001b[38;5;241m=\u001b[39m \u001b[38;5;28mtype\u001b[39m(\u001b[38;5;28mself\u001b[39m)\u001b[38;5;241m.\u001b[39mfrom_blocks(result_blocks, \u001b[38;5;28mself\u001b[39m\u001b[38;5;241m.\u001b[39maxes)\n",
      "File \u001b[0;32m~/Documents/openavmkit/openavmkit/.venv/lib/python3.12/site-packages/pandas/core/internals/blocks.py:796\u001b[0m, in \u001b[0;36mBlock.copy\u001b[0;34m(self, deep)\u001b[0m\n\u001b[1;32m    794\u001b[0m refs: BlockValuesRefs \u001b[38;5;241m|\u001b[39m \u001b[38;5;28;01mNone\u001b[39;00m\n\u001b[1;32m    795\u001b[0m \u001b[38;5;28;01mif\u001b[39;00m deep:\n\u001b[0;32m--> 796\u001b[0m     values \u001b[38;5;241m=\u001b[39m \u001b[43mvalues\u001b[49m\u001b[38;5;241;43m.\u001b[39;49m\u001b[43mcopy\u001b[49m\u001b[43m(\u001b[49m\u001b[43m)\u001b[49m\n\u001b[1;32m    797\u001b[0m     refs \u001b[38;5;241m=\u001b[39m \u001b[38;5;28;01mNone\u001b[39;00m\n\u001b[1;32m    798\u001b[0m \u001b[38;5;28;01melse\u001b[39;00m:\n",
      "File \u001b[0;32marrays.pyx:149\u001b[0m, in \u001b[0;36mpandas._libs.arrays.NDArrayBacked.copy\u001b[0;34m()\u001b[0m\n",
      "File \u001b[0;32marrays.pyx:66\u001b[0m, in \u001b[0;36mpandas._libs.arrays.NDArrayBacked._from_backing_data\u001b[0;34m()\u001b[0m\n",
      "File \u001b[0;32m~/Documents/openavmkit/openavmkit/.venv/lib/python3.12/site-packages/pandas/core/arrays/numpy_.py:141\u001b[0m, in \u001b[0;36mNumpyExtensionArray._from_backing_data\u001b[0;34m(self, arr)\u001b[0m\n\u001b[1;32m    140\u001b[0m \u001b[38;5;28;01mdef\u001b[39;00m\u001b[38;5;250m \u001b[39m\u001b[38;5;21m_from_backing_data\u001b[39m(\u001b[38;5;28mself\u001b[39m, arr: np\u001b[38;5;241m.\u001b[39mndarray) \u001b[38;5;241m-\u001b[39m\u001b[38;5;241m>\u001b[39m NumpyExtensionArray:\n\u001b[0;32m--> 141\u001b[0m     \u001b[38;5;28;01mreturn\u001b[39;00m \u001b[38;5;28;43mtype\u001b[39;49m\u001b[43m(\u001b[49m\u001b[38;5;28;43mself\u001b[39;49m\u001b[43m)\u001b[49m\u001b[43m(\u001b[49m\u001b[43marr\u001b[49m\u001b[43m)\u001b[49m\n",
      "File \u001b[0;32m~/Documents/openavmkit/openavmkit/.venv/lib/python3.12/site-packages/pandas/core/arrays/string_.py:364\u001b[0m, in \u001b[0;36mStringArray.__init__\u001b[0;34m(self, values, copy)\u001b[0m\n\u001b[1;32m    362\u001b[0m \u001b[38;5;28msuper\u001b[39m()\u001b[38;5;241m.\u001b[39m\u001b[38;5;21m__init__\u001b[39m(values, copy\u001b[38;5;241m=\u001b[39mcopy)\n\u001b[1;32m    363\u001b[0m \u001b[38;5;28;01mif\u001b[39;00m \u001b[38;5;129;01mnot\u001b[39;00m \u001b[38;5;28misinstance\u001b[39m(values, \u001b[38;5;28mtype\u001b[39m(\u001b[38;5;28mself\u001b[39m)):\n\u001b[0;32m--> 364\u001b[0m     \u001b[38;5;28;43mself\u001b[39;49m\u001b[38;5;241;43m.\u001b[39;49m\u001b[43m_validate\u001b[49m\u001b[43m(\u001b[49m\u001b[43m)\u001b[49m\n\u001b[1;32m    365\u001b[0m NDArrayBacked\u001b[38;5;241m.\u001b[39m\u001b[38;5;21m__init__\u001b[39m(\u001b[38;5;28mself\u001b[39m, \u001b[38;5;28mself\u001b[39m\u001b[38;5;241m.\u001b[39m_ndarray, StringDtype(storage\u001b[38;5;241m=\u001b[39m\u001b[38;5;124m\"\u001b[39m\u001b[38;5;124mpython\u001b[39m\u001b[38;5;124m\"\u001b[39m))\n",
      "File \u001b[0;32m~/Documents/openavmkit/openavmkit/.venv/lib/python3.12/site-packages/pandas/core/arrays/string_.py:369\u001b[0m, in \u001b[0;36mStringArray._validate\u001b[0;34m(self)\u001b[0m\n\u001b[1;32m    367\u001b[0m \u001b[38;5;28;01mdef\u001b[39;00m\u001b[38;5;250m \u001b[39m\u001b[38;5;21m_validate\u001b[39m(\u001b[38;5;28mself\u001b[39m):\n\u001b[1;32m    368\u001b[0m \u001b[38;5;250m    \u001b[39m\u001b[38;5;124;03m\"\"\"Validate that we only store NA or strings.\"\"\"\u001b[39;00m\n\u001b[0;32m--> 369\u001b[0m     \u001b[38;5;28;01mif\u001b[39;00m \u001b[38;5;28mlen\u001b[39m(\u001b[38;5;28mself\u001b[39m\u001b[38;5;241m.\u001b[39m_ndarray) \u001b[38;5;129;01mand\u001b[39;00m \u001b[38;5;129;01mnot\u001b[39;00m \u001b[43mlib\u001b[49m\u001b[38;5;241;43m.\u001b[39;49m\u001b[43mis_string_array\u001b[49m\u001b[43m(\u001b[49m\u001b[38;5;28;43mself\u001b[39;49m\u001b[38;5;241;43m.\u001b[39;49m\u001b[43m_ndarray\u001b[49m\u001b[43m,\u001b[49m\u001b[43m \u001b[49m\u001b[43mskipna\u001b[49m\u001b[38;5;241;43m=\u001b[39;49m\u001b[38;5;28;43;01mTrue\u001b[39;49;00m\u001b[43m)\u001b[49m:\n\u001b[1;32m    370\u001b[0m         \u001b[38;5;28;01mraise\u001b[39;00m \u001b[38;5;167;01mValueError\u001b[39;00m(\u001b[38;5;124m\"\u001b[39m\u001b[38;5;124mStringArray requires a sequence of strings or pandas.NA\u001b[39m\u001b[38;5;124m\"\u001b[39m)\n\u001b[1;32m    371\u001b[0m     \u001b[38;5;28;01mif\u001b[39;00m \u001b[38;5;28mself\u001b[39m\u001b[38;5;241m.\u001b[39m_ndarray\u001b[38;5;241m.\u001b[39mdtype \u001b[38;5;241m!=\u001b[39m \u001b[38;5;124m\"\u001b[39m\u001b[38;5;124mobject\u001b[39m\u001b[38;5;124m\"\u001b[39m:\n",
      "\u001b[0;31mKeyboardInterrupt\u001b[0m: "
     ]
    }
   ],
   "source": [
    "# Look at the data and make sure it makes sense\n",
    "examine_sup(sales_univ_pair, settings)"
   ]
  },
  {
   "cell_type": "markdown",
   "id": "89c2d9c6-bfea-4bbd-ae74-078e54732f5b",
   "metadata": {},
   "source": [
    "# 4. Clustering\n",
    "\n",
    "We cluster all similar properties and give each cluster a unique ID.  \n",
    "Later, we'll use these ID's whenever we want to run a horizontal equity study.\n"
   ]
  },
  {
   "cell_type": "code",
   "execution_count": null,
   "id": "a9e16813-3e0c-4177-b9b9-1f65e059f6af",
   "metadata": {
    "scrolled": true
   },
   "outputs": [],
   "source": [
    "settings = load_settings()\n",
    "sales_univ_pair = from_checkpoint(\"2-clean-00-horizontal-equity\", mark_horizontal_equity_clusters_per_model_group_sup,\n",
    "    {\n",
    "        \"sup\": sales_univ_pair,\n",
    "        \"settings\": settings,\n",
    "        \"verbose\": verbose\n",
    "    }\n",
    ")"
   ]
  },
  {
   "cell_type": "markdown",
   "id": "67036e5e-468f-4ccd-a784-940d86c0c13a",
   "metadata": {},
   "source": [
    "## 5. Process sales\n",
    "\n",
    "We process sales validity information to set all the right codes for later use.  \n",
    "We calculate time trends for sales over time to generate time-adjusted sale prices."
   ]
  },
  {
   "cell_type": "code",
   "execution_count": null,
   "id": "139bd8e6-38bd-499f-b68b-412febf914dc",
   "metadata": {},
   "outputs": [],
   "source": [
    "sales_univ_pair = from_checkpoint(\"2-clean-01-process_sales\", process_sales,\n",
    "    {\n",
    "        \"sup\": sales_univ_pair,\n",
    "        \"settings\": settings,\n",
    "        \"verbose\": verbose\n",
    "    }\n",
    ")"
   ]
  },
  {
   "cell_type": "markdown",
   "id": "6c331f62-f35b-47b4-8a2e-19149f95a2c5",
   "metadata": {},
   "source": [
    "## 6. Scrutinize sales\n",
    "\n",
    "We cluster all sales of similar properties in similar locations.  \n",
    "We flag individual sales that are anomalously high or low for their local cluster.  \n",
    "This helps us catch potentially invalid sales that slipped by the assessor's notice.  "
   ]
  },
  {
   "cell_type": "code",
   "execution_count": null,
   "id": "61701bce-36fe-44a6-9ba3-45a08ac14c5e",
   "metadata": {
    "scrolled": true
   },
   "outputs": [],
   "source": [
    "sales_univ_pair = from_checkpoint(\"2-clean-02-mark-ss_ids\", mark_ss_ids_per_model_group_sup,\n",
    "    {\n",
    "        \"sup\": sales_univ_pair,\n",
    "        \"settings\": settings,\n",
    "        \"verbose\": verbose,\n",
    "    }\n",
    ")"
   ]
  },
  {
   "cell_type": "code",
   "execution_count": null,
   "id": "807422f2-c1ff-4795-93b7-b12cd6bc7fc5",
   "metadata": {},
   "outputs": [],
   "source": [
    "sales_univ_pair = from_checkpoint(\"2-clean-03-sales-scrutiny\", run_sales_scrutiny_per_model_group_sup,\n",
    "    {\n",
    "        \"sup\": sales_univ_pair,\n",
    "        \"settings\": settings,\n",
    "        \"verbose\": verbose\n",
    "    }\n",
    ")"
   ]
  },
  {
   "cell_type": "markdown",
   "id": "563e780e-8475-41c7-955e-2688c0837da0",
   "metadata": {},
   "source": [
    "# 7. Write out results"
   ]
  },
  {
   "cell_type": "code",
   "execution_count": null,
   "id": "b0e5e1eb-b1bd-4b77-9e49-2a5e8e75c3fc",
   "metadata": {},
   "outputs": [],
   "source": [
    "write_notebook_output_sup(sales_univ_pair, \"2-clean\")"
   ]
  },
  {
   "cell_type": "markdown",
   "id": "b7977159-a81f-4de2-b27e-1605f871ae6d",
   "metadata": {},
   "source": [
    "# 8. Look at it on a map!\n",
    "- Take the files output in the previous step and put them in a map viewer like QGIS, ArcGIS, or Felt\n",
    "- Look at them with your eyeballs\n",
    "- Make sure the data looks correct\n",
    "- If not, go back and fix it!\n",
    "- Don't proceed to the next step until everything looks right"
   ]
  },
  {
   "cell_type": "code",
   "execution_count": null,
   "id": "d9938279-c324-4ea0-824b-6364243d8019",
   "metadata": {},
   "outputs": [],
   "source": []
  }
 ],
 "metadata": {
  "kernelspec": {
   "display_name": "Python 3 (ipykernel)",
   "language": "python",
   "name": "python3"
  },
  "language_info": {
   "codemirror_mode": {
    "name": "ipython",
    "version": 3
   },
   "file_extension": ".py",
   "mimetype": "text/x-python",
   "name": "python",
   "nbconvert_exporter": "python",
   "pygments_lexer": "ipython3",
   "version": "3.10.6"
  }
 },
 "nbformat": 4,
 "nbformat_minor": 5
}
