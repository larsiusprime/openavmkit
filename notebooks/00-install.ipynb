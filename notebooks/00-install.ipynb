{
 "cells": [
  {
   "cell_type": "markdown",
   "id": "6f84d20f-dd7a-47bb-b4f7-da00c9050e14",
   "metadata": {},
   "source": [
    "# Installation"
   ]
  },
  {
   "cell_type": "markdown",
   "id": "de70704b-f944-481c-bbce-128b595544d0",
   "metadata": {},
   "source": [
    "This notebook sets up a local python environment for openavmkit\n",
    "\n",
    "- Defines a **virtual environment** (aka \"venv\") path\n",
    "- Checks if an old venv exists and removes it\n",
    "- Creates a new venv for this project\n",
    "- Ensures all the relevant python tools are upgraded within this environment\n",
    "- Installs all of this libraries' dependencies within this environment\n",
    "- Checks that everything is installed correctly\n",
    "- Registers the environment with Jupyter\n",
    "- Checks if Jupyter is using the new environment\n",
    "\n",
    "On a first run you will need to run this twice. Just run the block of code below and follow the instructions. If it tells you to restart Jupyter, that means *completely close it.* Close not only this notebook, but also the jupyter notebook server program itself, and restart it. Once it tells you everything is good, you can proceed to the next notebook."
   ]
  },
  {
   "cell_type": "code",
   "execution_count": null,
   "id": "initial_id",
   "metadata": {},
   "outputs": [],
   "source": [
    "import os\n",
    "import shutil\n",
    "import sys\n",
    "import subprocess\n",
    "\n",
    "# Define virtual environment path (absolute path for cross-platform support)\n",
    "venv_path = os.path.abspath(os.path.join(os.getcwd(), \"..\", \".venv\"))\n",
    "requirements_path = os.path.abspath(os.path.join(os.getcwd(), \"..\", \"requirements.txt\"))\n",
    "\n",
    "# Define the correct Python executable inside the virtual environment\n",
    "python_executable = os.path.join(venv_path, \"Scripts\", \"python.exe\") if os.name == \"nt\" else os.path.join(venv_path, \"bin\", \"python\")\n",
    "\n",
    "# Step 1: Check if the virtual environment exists\n",
    "if not os.path.exists(venv_path):\n",
    "    print(\"🔄 Setting up a clean virtual environment...\")\n",
    "\n",
    "    # Remove old environment if it exists (optional for a fresh start)\n",
    "    if os.path.exists(venv_path):\n",
    "        shutil.rmtree(venv_path)\n",
    "        print(\"✅ Removed old virtual environment.\")\n",
    "\n",
    "    # Create a new virtual environment\n",
    "    subprocess.run([sys.executable, \"-m\", \"venv\", venv_path], check=True)\n",
    "    print(\"✅ Created new virtual environment.\")\n",
    "\n",
    "    # Upgrade pip, setuptools, and wheel inside the environment\n",
    "    print(\"🔄 Upgrading pip, setuptools, and wheel...\")\n",
    "    subprocess.run([python_executable, \"-m\", \"pip\", \"install\", \"--upgrade\", \"pip\", \"setuptools\", \"wheel\"], check=True)\n",
    "\n",
    "    # Install dependencies from requirements.txt\n",
    "    print(\"🔄 Installing dependencies from requirements.txt...\")\n",
    "    if os.path.exists(requirements_path):\n",
    "        subprocess.run([python_executable, \"-m\", \"pip\", \"install\", \"-r\", requirements_path], check=True)\n",
    "    else:\n",
    "        print(f\"⚠️ WARNING: requirements.txt not found at {requirements_path}. Skipping installation.\")\n",
    "\n",
    "# Step 2: Ensure Jupyter and ipykernel are installed\n",
    "print(\"🔄 Installing Jupyter and registering kernel...\")\n",
    "subprocess.run([python_executable, \"-m\", \"pip\", \"install\", \"jupyter\", \"ipykernel\"], check=True)\n",
    "\n",
    "# Step 3: Register the environment with Jupyter\n",
    "print(\"🔄 Registering the Jupyter kernel...\")\n",
    "subprocess.run([python_executable, \"-m\", \"ipykernel\", \"install\", \"--user\", \"--name=my_library_env\", \"--display-name\", \"Python (my_library_env)\"], check=True)\n",
    "\n",
    "# Step 4: Check if Jupyter detects the new kernel\n",
    "print(\"\\n🔍 Checking if the kernel is registered...\")\n",
    "kernel_list = subprocess.run([\"jupyter\", \"kernelspec\", \"list\"], capture_output=True, text=True)\n",
    "print(kernel_list.stdout)\n",
    "\n",
    "if \"my_library_env\" not in kernel_list.stdout:\n",
    "    print(\"\\n⚠️ WARNING: Jupyter is NOT detecting 'Python (my_library_env)'.\")\n",
    "    print(\"   Try restarting Jupyter Notebook and check again.\")\n",
    "    print(\"   If the kernel is still missing, run the notebook again.\")\n",
    "else:\n",
    "    print(\"\\n✅ Kernel successfully registered!\")\n",
    "\n",
    "# Step 5: Ensure Jupyter is running inside the correct environment\n",
    "print(\"\\n🔍 Checking if Jupyter is using the correct environment...\")\n",
    "current_python = sys.executable\n",
    "expected_python = python_executable\n",
    "\n",
    "if current_python != expected_python:\n",
    "    print(\"\\n⚠️ WARNING: You are NOT currently using the new environment!\")\n",
    "    print(\"👉 To switch, follow these steps:\")\n",
    "    print(\"   1️⃣ Click 'Kernel' in the Jupyter Notebook menu.\")\n",
    "    print(\"   2️⃣ Select 'Change Kernel'.\")\n",
    "    print(\"   3️⃣ Choose 'Python (my_library_env)'.\")\n",
    "    print(\"   4️⃣ If you don't see it, COMPLETELY CLOSE Jupyter Notebook (the notebook AND the Jupyter program itself), restart it, and try again.\")\n",
    "else:\n",
    "    print(\"\\n✅ Jupyter is running inside the correct environment. You can proceed to the next notebook.\")\n"
   ]
  },
  {
   "cell_type": "code",
   "execution_count": null,
   "id": "04316e8e-21f9-44c7-b33d-af7646394f61",
   "metadata": {},
   "outputs": [],
   "source": []
  }
 ],
 "metadata": {
  "kernelspec": {
   "display_name": "Python (my_library_env)",
   "language": "python",
   "name": "my_library_env"
  },
  "language_info": {
   "codemirror_mode": {
    "name": "ipython",
    "version": 3
   },
   "file_extension": ".py",
   "mimetype": "text/x-python",
   "name": "python",
   "nbconvert_exporter": "python",
   "pygments_lexer": "ipython3",
   "version": "3.10.6"
  }
 },
 "nbformat": 4,
 "nbformat_minor": 5
}
